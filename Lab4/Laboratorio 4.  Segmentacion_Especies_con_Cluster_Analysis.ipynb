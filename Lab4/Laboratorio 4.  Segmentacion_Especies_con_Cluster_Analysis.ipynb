{
 "cells": [
  {
   "cell_type": "markdown",
   "metadata": {},
   "source": [
    "# Segmentación de Especies con Cluster Analysis"
   ]
  },
  {
   "cell_type": "markdown",
   "metadata": {},
   "source": [
    "El conjunto de datos de la flor **Iris** es uno de los más populares para el Aprendizaje de Máquina (ML).  Si no lo conocen, pueden leer sobre él en:\n",
    "\n",
    "https://en.wikipedia.org/wiki/Iris_flower_data_set\n",
    "\n",
    "El conjunto de datos *iris.csv* tiene cuatro variables:  \n",
    "\n",
    "* **sepal length** (longitud del sépalo), \n",
    "* **sepal width** (ancho del sépalo), \n",
    "* **petal length** (longitud del pétalo), \n",
    "* **petal width** (ancho del pétalo).\n",
    "\n",
    "**SECCIÓN 1:**\n",
    "\n",
    "1. Visualicen los datos para ver si pueden detectar algunos grupos. **Ayuda:**   utilicen la forma del sépalo:\n",
    "\n",
    "2. Creen 2 \"clusters\" utilizando K_Means Clustering y grafiquen los resultados.  \n",
    "\n",
    "3. Estandaricen los datos e intenten el paso 2, de nuevo.  ¿Qué diferencias hay, si es que lo hay?\n",
    "\n",
    "4. Utilicen el método del \"codo\" para determinar cuantos \"clusters\" es el ideal. (prueben un rango de 1 a 10)\n",
    "\n",
    "5. Basado en la gráfica del \"codo\" realicen varias gráficas con el número de clusters (unos 3 o 4 diferentes) que Uds creen mejor se ajusten a los datos.\n",
    "\n",
    "6. Comparen sus soluciones con los datos reales, archivo: *iris-con-respuestas.csv*\n",
    "\n",
    "**Obviamente solo hay tres especies, porque ese es el archivo de datos reales!**\n",
    "\n",
    "¿Funcionó el clustering con la forma del sépalo?\n",
    "\n",
    "**Sección 2:**\n",
    "\n",
    "Repitan el proceso pero ahora utilizando la forma del pétalo.  Respondan a las mismas preguntas\n",
    "\n",
    "\n",
    "**Sección 3:**\n",
    "\n",
    "Utilicen la librería \"kneed\" y vean si el resultado coincide con el método del \"codo\" que hicieron manualmente.  ¿A que podría deberse la diferencia, si la hay?  ¿Les dió el número correcto de clusters, comparado a los datos reales?  \n",
    "\n",
    "Basado en los resultado que tuvieron, ¿A qué conclusiones llegaron?\n"
   ]
  },
  {
   "cell_type": "code",
   "execution_count": null,
   "metadata": {},
   "outputs": [],
   "source": []
  }
 ],
 "metadata": {
  "kernelspec": {
   "display_name": "Python 3 (ipykernel)",
   "language": "python",
   "name": "python3"
  },
  "language_info": {
   "codemirror_mode": {
    "name": "ipython",
    "version": 3
   },
   "file_extension": ".py",
   "mimetype": "text/x-python",
   "name": "python",
   "nbconvert_exporter": "python",
   "pygments_lexer": "ipython3",
   "version": "3.9.15"
  }
 },
 "nbformat": 4,
 "nbformat_minor": 4
}
