{
 "cells": [
  {
   "attachments": {},
   "cell_type": "markdown",
   "metadata": {},
   "source": [
    "# Laboratorio 2\n",
    "\n",
    "## Mineria de Datos - Seccion 20\n",
    "\n",
    "### Grupo 3: Andrés de la Roca y Jun Woo Lee"
   ]
  },
  {
   "cell_type": "code",
   "execution_count": 577,
   "metadata": {},
   "outputs": [],
   "source": [
    "import pandas as pd\n",
    "import seaborn as sns\n",
    "import numpy as np\n",
    "from quickda.explore_data import *\n",
    "from quickda.clean_data import *\n",
    "from quickda.explore_numeric import *\n",
    "from quickda.explore_categoric import *\n",
    "from quickda.explore_numeric_categoric import *\n",
    "from quickda.explore_time_series import *\n",
    "from sklearn.preprocessing import StandardScaler\n",
    "from sklearn.model_selection import train_test_split\n",
    "from sklearn.neighbors import KNeighborsClassifier\n",
    "from sklearn.metrics import classification_report, confusion_matrix"
   ]
  },
  {
   "cell_type": "code",
   "execution_count": 578,
   "metadata": {},
   "outputs": [],
   "source": [
    "data = pd.read_csv('breast-cancer-wisconsin.data', names=['id', 'clump_thickness', 'uniformity_cell_size', 'uniformity_cell_shape', 'marginal_adhesion', 'single_epithelial_cell_size', 'bare_nuclei',\n",
    "'bland_chromatin', 'normal_nucleoli', 'mitoses', 'class'])"
   ]
  },
  {
   "attachments": {},
   "cell_type": "markdown",
   "metadata": {},
   "source": [
    "## Limpieza de variables"
   ]
  },
  {
   "cell_type": "code",
   "execution_count": 579,
   "metadata": {},
   "outputs": [
    {
     "data": {
      "text/html": [
       "<div>\n",
       "<style scoped>\n",
       "    .dataframe tbody tr th:only-of-type {\n",
       "        vertical-align: middle;\n",
       "    }\n",
       "\n",
       "    .dataframe tbody tr th {\n",
       "        vertical-align: top;\n",
       "    }\n",
       "\n",
       "    .dataframe thead th {\n",
       "        text-align: right;\n",
       "    }\n",
       "</style>\n",
       "<table border=\"1\" class=\"dataframe\">\n",
       "  <thead>\n",
       "    <tr style=\"text-align: right;\">\n",
       "      <th></th>\n",
       "      <th>id</th>\n",
       "      <th>clump_thickness</th>\n",
       "      <th>uniformity_cell_size</th>\n",
       "      <th>uniformity_cell_shape</th>\n",
       "      <th>marginal_adhesion</th>\n",
       "      <th>single_epithelial_cell_size</th>\n",
       "      <th>bare_nuclei</th>\n",
       "      <th>bland_chromatin</th>\n",
       "      <th>normal_nucleoli</th>\n",
       "      <th>mitoses</th>\n",
       "      <th>class</th>\n",
       "    </tr>\n",
       "  </thead>\n",
       "  <tbody>\n",
       "    <tr>\n",
       "      <th>0</th>\n",
       "      <td>1000025</td>\n",
       "      <td>5</td>\n",
       "      <td>1</td>\n",
       "      <td>1</td>\n",
       "      <td>1</td>\n",
       "      <td>2</td>\n",
       "      <td>1</td>\n",
       "      <td>3</td>\n",
       "      <td>1</td>\n",
       "      <td>1</td>\n",
       "      <td>2</td>\n",
       "    </tr>\n",
       "    <tr>\n",
       "      <th>1</th>\n",
       "      <td>1002945</td>\n",
       "      <td>5</td>\n",
       "      <td>4</td>\n",
       "      <td>4</td>\n",
       "      <td>5</td>\n",
       "      <td>7</td>\n",
       "      <td>10</td>\n",
       "      <td>3</td>\n",
       "      <td>2</td>\n",
       "      <td>1</td>\n",
       "      <td>2</td>\n",
       "    </tr>\n",
       "    <tr>\n",
       "      <th>2</th>\n",
       "      <td>1015425</td>\n",
       "      <td>3</td>\n",
       "      <td>1</td>\n",
       "      <td>1</td>\n",
       "      <td>1</td>\n",
       "      <td>2</td>\n",
       "      <td>2</td>\n",
       "      <td>3</td>\n",
       "      <td>1</td>\n",
       "      <td>1</td>\n",
       "      <td>2</td>\n",
       "    </tr>\n",
       "    <tr>\n",
       "      <th>3</th>\n",
       "      <td>1016277</td>\n",
       "      <td>6</td>\n",
       "      <td>8</td>\n",
       "      <td>8</td>\n",
       "      <td>1</td>\n",
       "      <td>3</td>\n",
       "      <td>4</td>\n",
       "      <td>3</td>\n",
       "      <td>7</td>\n",
       "      <td>1</td>\n",
       "      <td>2</td>\n",
       "    </tr>\n",
       "    <tr>\n",
       "      <th>4</th>\n",
       "      <td>1017023</td>\n",
       "      <td>4</td>\n",
       "      <td>1</td>\n",
       "      <td>1</td>\n",
       "      <td>3</td>\n",
       "      <td>2</td>\n",
       "      <td>1</td>\n",
       "      <td>3</td>\n",
       "      <td>1</td>\n",
       "      <td>1</td>\n",
       "      <td>2</td>\n",
       "    </tr>\n",
       "    <tr>\n",
       "      <th>...</th>\n",
       "      <td>...</td>\n",
       "      <td>...</td>\n",
       "      <td>...</td>\n",
       "      <td>...</td>\n",
       "      <td>...</td>\n",
       "      <td>...</td>\n",
       "      <td>...</td>\n",
       "      <td>...</td>\n",
       "      <td>...</td>\n",
       "      <td>...</td>\n",
       "      <td>...</td>\n",
       "    </tr>\n",
       "    <tr>\n",
       "      <th>694</th>\n",
       "      <td>776715</td>\n",
       "      <td>3</td>\n",
       "      <td>1</td>\n",
       "      <td>1</td>\n",
       "      <td>1</td>\n",
       "      <td>3</td>\n",
       "      <td>2</td>\n",
       "      <td>1</td>\n",
       "      <td>1</td>\n",
       "      <td>1</td>\n",
       "      <td>2</td>\n",
       "    </tr>\n",
       "    <tr>\n",
       "      <th>695</th>\n",
       "      <td>841769</td>\n",
       "      <td>2</td>\n",
       "      <td>1</td>\n",
       "      <td>1</td>\n",
       "      <td>1</td>\n",
       "      <td>2</td>\n",
       "      <td>1</td>\n",
       "      <td>1</td>\n",
       "      <td>1</td>\n",
       "      <td>1</td>\n",
       "      <td>2</td>\n",
       "    </tr>\n",
       "    <tr>\n",
       "      <th>696</th>\n",
       "      <td>888820</td>\n",
       "      <td>5</td>\n",
       "      <td>10</td>\n",
       "      <td>10</td>\n",
       "      <td>3</td>\n",
       "      <td>7</td>\n",
       "      <td>3</td>\n",
       "      <td>8</td>\n",
       "      <td>10</td>\n",
       "      <td>2</td>\n",
       "      <td>4</td>\n",
       "    </tr>\n",
       "    <tr>\n",
       "      <th>697</th>\n",
       "      <td>897471</td>\n",
       "      <td>4</td>\n",
       "      <td>8</td>\n",
       "      <td>6</td>\n",
       "      <td>4</td>\n",
       "      <td>3</td>\n",
       "      <td>4</td>\n",
       "      <td>10</td>\n",
       "      <td>6</td>\n",
       "      <td>1</td>\n",
       "      <td>4</td>\n",
       "    </tr>\n",
       "    <tr>\n",
       "      <th>698</th>\n",
       "      <td>897471</td>\n",
       "      <td>4</td>\n",
       "      <td>8</td>\n",
       "      <td>8</td>\n",
       "      <td>5</td>\n",
       "      <td>4</td>\n",
       "      <td>5</td>\n",
       "      <td>10</td>\n",
       "      <td>4</td>\n",
       "      <td>1</td>\n",
       "      <td>4</td>\n",
       "    </tr>\n",
       "  </tbody>\n",
       "</table>\n",
       "<p>699 rows × 11 columns</p>\n",
       "</div>"
      ],
      "text/plain": [
       "          id  clump_thickness  uniformity_cell_size  uniformity_cell_shape  \\\n",
       "0    1000025                5                     1                      1   \n",
       "1    1002945                5                     4                      4   \n",
       "2    1015425                3                     1                      1   \n",
       "3    1016277                6                     8                      8   \n",
       "4    1017023                4                     1                      1   \n",
       "..       ...              ...                   ...                    ...   \n",
       "694   776715                3                     1                      1   \n",
       "695   841769                2                     1                      1   \n",
       "696   888820                5                    10                     10   \n",
       "697   897471                4                     8                      6   \n",
       "698   897471                4                     8                      8   \n",
       "\n",
       "     marginal_adhesion  single_epithelial_cell_size bare_nuclei  \\\n",
       "0                    1                            2           1   \n",
       "1                    5                            7          10   \n",
       "2                    1                            2           2   \n",
       "3                    1                            3           4   \n",
       "4                    3                            2           1   \n",
       "..                 ...                          ...         ...   \n",
       "694                  1                            3           2   \n",
       "695                  1                            2           1   \n",
       "696                  3                            7           3   \n",
       "697                  4                            3           4   \n",
       "698                  5                            4           5   \n",
       "\n",
       "     bland_chromatin  normal_nucleoli  mitoses  class  \n",
       "0                  3                1        1      2  \n",
       "1                  3                2        1      2  \n",
       "2                  3                1        1      2  \n",
       "3                  3                7        1      2  \n",
       "4                  3                1        1      2  \n",
       "..               ...              ...      ...    ...  \n",
       "694                1                1        1      2  \n",
       "695                1                1        1      2  \n",
       "696                8               10        2      4  \n",
       "697               10                6        1      4  \n",
       "698               10                4        1      4  \n",
       "\n",
       "[699 rows x 11 columns]"
      ]
     },
     "execution_count": 579,
     "metadata": {},
     "output_type": "execute_result"
    }
   ],
   "source": [
    "data"
   ]
  },
  {
   "attachments": {},
   "cell_type": "markdown",
   "metadata": {},
   "source": [
    "#### Limpieza de columna bare_nuclei"
   ]
  },
  {
   "cell_type": "code",
   "execution_count": 580,
   "metadata": {},
   "outputs": [
    {
     "data": {
      "text/plain": [
       "0       1.0\n",
       "1      10.0\n",
       "2       2.0\n",
       "3       4.0\n",
       "4       1.0\n",
       "       ... \n",
       "694     2.0\n",
       "695     1.0\n",
       "696     3.0\n",
       "697     4.0\n",
       "698     5.0\n",
       "Name: bare_nuclei, Length: 699, dtype: float64"
      ]
     },
     "execution_count": 580,
     "metadata": {},
     "output_type": "execute_result"
    }
   ],
   "source": [
    "# Se limpia la columna bare_nuclei, ya que los valores son string en lugar de int y tiene valores '?'\n",
    "bare_nucleiArray = []\n",
    "for item in data['bare_nuclei']:\n",
    "    if item == '?':\n",
    "        bare_nucleiArray.append(None)\n",
    "    else:\n",
    "        bare_nucleiArray.append(int(item))\n",
    "\n",
    "data['bare_nuclei'] = bare_nucleiArray\n",
    "\n",
    "data['bare_nuclei']        \n",
    "\n"
   ]
  },
  {
   "cell_type": "code",
   "execution_count": 581,
   "metadata": {},
   "outputs": [
    {
     "data": {
      "text/plain": [
       "id                              0\n",
       "clump_thickness                 0\n",
       "uniformity_cell_size            0\n",
       "uniformity_cell_shape           0\n",
       "marginal_adhesion               0\n",
       "single_epithelial_cell_size     0\n",
       "bare_nuclei                    16\n",
       "bland_chromatin                 0\n",
       "normal_nucleoli                 0\n",
       "mitoses                         0\n",
       "class                           0\n",
       "dtype: int64"
      ]
     },
     "execution_count": 581,
     "metadata": {},
     "output_type": "execute_result"
    }
   ],
   "source": [
    "nan_count = data.isnull().sum()\n",
    "\n",
    "nan_count #Visualizacion de cuantos valores null hay en la data"
   ]
  },
  {
   "attachments": {},
   "cell_type": "markdown",
   "metadata": {},
   "source": [
    "#### Limpieza de valores unicos segun id"
   ]
  },
  {
   "cell_type": "code",
   "execution_count": 582,
   "metadata": {},
   "outputs": [
    {
     "data": {
      "text/plain": [
       "id                             645\n",
       "clump_thickness                 10\n",
       "uniformity_cell_size            10\n",
       "uniformity_cell_shape           10\n",
       "marginal_adhesion               10\n",
       "single_epithelial_cell_size     10\n",
       "bare_nuclei                     10\n",
       "bland_chromatin                 10\n",
       "normal_nucleoli                 10\n",
       "mitoses                          9\n",
       "class                            2\n",
       "dtype: int64"
      ]
     },
     "execution_count": 582,
     "metadata": {},
     "output_type": "execute_result"
    }
   ],
   "source": [
    "data.nunique() #Visualizacion de valores unicos en la data\n",
    "\n",
    "#NOTA: el id por defecto deberia de ser 699 valores unicos, al tener solo 645\n",
    "#se infiere que hay valores duplicados que se deben de limpiar para obtener\n",
    "#datos mas precisos y sin sesgo."
   ]
  },
  {
   "cell_type": "code",
   "execution_count": 583,
   "metadata": {},
   "outputs": [],
   "source": [
    "#Eliminacion de filas duplicadas segun el id.\n",
    "\n",
    "data = data.drop_duplicates(subset=['id'], keep='first')\n"
   ]
  },
  {
   "cell_type": "code",
   "execution_count": 584,
   "metadata": {},
   "outputs": [
    {
     "data": {
      "text/plain": [
       "(645, 11)"
      ]
     },
     "execution_count": 584,
     "metadata": {},
     "output_type": "execute_result"
    }
   ],
   "source": [
    "data.shape #Comprobacion del cambio de forma del dataframe"
   ]
  },
  {
   "attachments": {},
   "cell_type": "markdown",
   "metadata": {},
   "source": [
    "#### Reemplazar valores faltantes"
   ]
  },
  {
   "cell_type": "code",
   "execution_count": 585,
   "metadata": {},
   "outputs": [
    {
     "data": {
      "text/plain": [
       "<AxesSubplot: >"
      ]
     },
     "execution_count": 585,
     "metadata": {},
     "output_type": "execute_result"
    },
    {
     "data": {
      "image/png": "[encoded data removed]",
      "text/plain": [
       "<Figure size 2000x1000 with 1 Axes>"
      ]
     },
     "metadata": {},
     "output_type": "display_data"
    }
   ],
   "source": [
    "sns.heatmap(data.isnull(), yticklabels = False, cbar = False, cmap='cividis')"
   ]
  },
  {
   "cell_type": "code",
   "execution_count": 586,
   "metadata": {},
   "outputs": [],
   "source": [
    "data = clean(data, columns=\"bare_nuclei\", method=\"fillmissing\")"
   ]
  },
  {
   "cell_type": "code",
   "execution_count": 587,
   "metadata": {},
   "outputs": [],
   "source": [
    "#Convert bare_nuclei column's values from float to int\n",
    "data['bare_nuclei'] = data['bare_nuclei'].astype(np.int64)"
   ]
  },
  {
   "cell_type": "code",
   "execution_count": 588,
   "metadata": {},
   "outputs": [
    {
     "data": {
      "text/plain": [
       "id                             int64\n",
       "clump_thickness                int64\n",
       "uniformity_cell_size           int64\n",
       "uniformity_cell_shape          int64\n",
       "marginal_adhesion              int64\n",
       "single_epithelial_cell_size    int64\n",
       "bare_nuclei                    int64\n",
       "bland_chromatin                int64\n",
       "normal_nucleoli                int64\n",
       "mitoses                        int64\n",
       "class                          int64\n",
       "dtype: object"
      ]
     },
     "execution_count": 588,
     "metadata": {},
     "output_type": "execute_result"
    }
   ],
   "source": [
    "data.dtypes"
   ]
  },
  {
   "cell_type": "code",
   "execution_count": 589,
   "metadata": {},
   "outputs": [
    {
     "data": {
      "text/plain": [
       "[array([ 1000025,  1002945,  1015425,  1016277,  1017023,  1017122,\n",
       "         1018099,  1018561,  1033078,  1035283,  1036172,  1041801,\n",
       "         1043999,  1044572,  1047630,  1048672,  1049815,  1050670,\n",
       "         1050718,  1054590,  1054593,  1056784,  1057013,  1059552,\n",
       "         1065726,  1066373,  1066979,  1067444,  1070935,  1071760,\n",
       "         1072179,  1074610,  1075123,  1079304,  1080185,  1081791,\n",
       "         1084584,  1091262,  1096800,  1099510,  1100524,  1102573,\n",
       "         1103608,  1103722,  1105257,  1105524,  1106095,  1106829,\n",
       "         1108370,  1108449,  1110102,  1110503,  1110524,  1111249,\n",
       "         1112209,  1113038,  1113483,  1113906,  1115282,  1115293,\n",
       "         1116116,  1116132,  1116192,  1116998,  1117152,  1118039,\n",
       "         1120559,  1121732,  1121919,  1123061,  1124651,  1125035,\n",
       "         1126417,  1131294,  1132347,  1133041,  1133136,  1136142,\n",
       "         1137156,  1143978,  1147044,  1147699,  1147748,  1148278,\n",
       "         1148873,  1152331,  1155546,  1156272,  1156948,  1157734,\n",
       "         1158247,  1160476,  1164066,  1165297,  1165790,  1165926,\n",
       "         1166630,  1166654,  1167439,  1167471,  1168359,  1168736,\n",
       "         1169049,  1170419,  1170420,  1171710,  1171795,  1171845,\n",
       "         1172152,  1173216,  1173235,  1173347,  1173509,  1173514,\n",
       "         1173681,  1174057,  1174131,  1174428,  1175937,  1176406,\n",
       "         1176881,  1177027,  1177399,  1177512,  1178580,  1179818,\n",
       "         1180194,  1180523,  1180831,  1181356,  1182404,  1182410,\n",
       "         1183240,  1183246,  1183516,  1183911,  1183983,  1184184,\n",
       "         1184241,  1184840,  1185609,  1185610,  1187457,  1187805,\n",
       "         1188472,  1189266,  1189286,  1190394,  1190485,  1192325,\n",
       "         1193091,  1193210,  1193683,  1196295,  1196915,  1197080,\n",
       "         1197270,  1197440,  1197510,  1197979,  1197993,  1198128,\n",
       "         1198641,  1199219,  1199731,  1199983,  1200772,  1200847,\n",
       "         1200892,  1200952,  1201834,  1201936,  1202125,  1202812,\n",
       "         1203096,  1204242,  1204898,  1205138,  1205579,  1206089,\n",
       "         1206695,  1206841,  1207986,  1208301,  1210963,  1211202,\n",
       "         1212232,  1212251,  1212422,  1213375,  1213383,  1214092,\n",
       "         1214556,  1214966,  1216694,  1216947,  1217051,  1217264,\n",
       "         1218105,  1218741,  1218860,  1219406,  1219525,  1219859,\n",
       "         1220330,  1221863,  1222047,  1222936,  1223282,  1223426,\n",
       "         1223793,  1223967,  1224329,  1225799,  1226012,  1226612,\n",
       "         1227210,  1227244,  1227481,  1228152,  1228311,  1230175,\n",
       "         1230688,  1231387,  1231706,  1232225,  1236043,  1241232,\n",
       "         1241559,  1241679,  1242364,  1243256,  1270479,  1276091,\n",
       "         1277018,   128059,  1285531,  1287775,   144888,   145447,\n",
       "          167528,   169356,   183913,   191250,   242970,   255644,\n",
       "          263538,   274137,   303213,   314428,   320675,   324427,\n",
       "          385103,   390840,   411453,   428903,   431495,   432809,\n",
       "          434518,   452264,   456282,   476903,   486283,   486662,\n",
       "          488173,   492268,   508234,   527363,   529329,   535331,\n",
       "          543558,   555977,   560680,   561477,   563649,   601265,\n",
       "          606140,   606722,   616240,    61634,   625201,    63375,\n",
       "          635844,   636130,   640744,   646904,   653777,   659642,\n",
       "          666090,   666942,   667204,   673637,   684955,   688033,\n",
       "          691628,   693702,   704097,   704168,   706426,   709287,\n",
       "          718641,   721482,   730881,   733639,   733823,   740492,\n",
       "          743348,   752904,   756136,   760001,   760239,    76389,\n",
       "          764974,   770066,   785208,   785615,   792744,   797327,\n",
       "          798429,   806423,   809912,   810104,   814265,   814911,\n",
       "          822829,   826923,   830690,   831268,   832226,   832567,\n",
       "          836433,   837082,   846832,   850831,   855524,   857774,\n",
       "          859164,   859350,   866325,   873549,   877291,   877943,\n",
       "          888169,   888523,   896404,   897172,    95719,   160296,\n",
       "          342245,   428598,   492561,   493452,   521441,   636437,\n",
       "          640712,   654244,   657753,   685977,   805448,   846423,\n",
       "         1002504,  1022257,  1026122,  1071084,  1080233,  1114570,\n",
       "         1116715,  1131411,  1151734,  1156017,  1158405,  1168278,\n",
       "         1176187,  1196263,  1196475,  1206314,  1211265,  1213784,\n",
       "         1223003,  1223306,  1223543,  1229929,  1231853,  1234554,\n",
       "         1236837,  1237674,  1238021,  1238464,  1238633,  1238915,\n",
       "         1238948,  1239232,  1239347,  1239967,  1240337,  1253505,\n",
       "         1255384,  1257200,  1257648,  1257815,  1257938,  1258549,\n",
       "         1258556,  1266154,  1272039,  1277629,  1293439,  1294562,\n",
       "         1295186,   527337,   558538,   566509,   608157,   677910,\n",
       "          734111,   780555,   827627,  1049837,  1058849,  1193544,\n",
       "         1201870,  1202253,  1227081,  1230994,  1238410,  1246562,\n",
       "         1257470,  1259008,  1266124,  1267898,  1268313,  1268804,\n",
       "         1280258,  1293966,  1296572,  1298416,  1299596,  1181685,\n",
       "         1211594,  1238777,  1257608,  1269574,  1277145,  1287282,\n",
       "         1296025,  1296263,  1296593,  1299161,  1301945,  1302428,\n",
       "         1318169,   474162,   787451,  1002025,  1070522,  1073960,\n",
       "         1076352,  1084139,  1119189,  1133991,  1142706,  1155967,\n",
       "         1170945,  1181567,  1204558,  1217952,  1224565,  1238186,\n",
       "         1253917,  1265899,  1268766,  1277268,  1286943,  1295508,\n",
       "         1297327,  1297522,  1298360,  1299924,  1299994,  1304595,\n",
       "         1306282,  1313325,  1320077,  1320304,  1330439,   333093,\n",
       "          369565,   412300,   672113,   749653,   769612,   807657,\n",
       "         8233704,   837480,   867392,   869828,  1043068,  1056171,\n",
       "         1061990,  1113061,  1135090,  1145420,  1158157,  1171578,\n",
       "         1174841,  1184586,  1186936,  1197527,  1222464,  1240603,\n",
       "         1241035,  1287971,  1289391,  1306339,  1313658,  1313982,\n",
       "         1321264,  1321321,  1321348,  1321931,  1321942,  1328331,\n",
       "         1328755,  1331405,  1331412,  1333104,  1334071,  1343068,\n",
       "         1343374,  1344121,   142932,   183936,   324382,   378275,\n",
       "          690557,   695091,   695219,   824249,   871549,   878358,\n",
       "         1107684,  1115762,  1217717,  1239420,  1254538,  1261751,\n",
       "         1268275,  1272166,  1294261,  1295529,  1298484,  1311875,\n",
       "         1315506,  1320141,  1325309,  1333063,  1333495,  1334659,\n",
       "         1336798,  1344449,  1350568,  1352663,   188336,   352431,\n",
       "          353098,   557583,   636375,   736150,   803531,  1016634,\n",
       "         1031608,  1041043,  1042252,  1057067,  1073836,  1083817,\n",
       "         1096352,  1140597,  1149548,  1174009,  1183596,  1190386,\n",
       "         1190546,  1213273,  1218982,  1225382,  1235807,  1253955,\n",
       "         1257366,  1260659,  1268952,  1275807,  1277792,  1285722,\n",
       "         1288608,  1290203,  1294413,  1303489,  1311033,  1311108,\n",
       "         1315807,  1318671,  1319609,  1323477,  1324572,  1324681,\n",
       "         1325159,  1326892,  1330361,  1333877,  1334015,  1334667,\n",
       "         1339781, 13454352,  1345452,  1345593,  1347749,  1347943,\n",
       "         1348851,  1350319,  1350423,  1352848,  1353092,  1354840,\n",
       "         1355260,  1365075,  1365328,  1368267,  1368273,  1368882,\n",
       "         1369821,  1371026,  1371920,   466906,   534555,   536708,\n",
       "          566346,   603148,   654546,   714039,   763235,   776715,\n",
       "          841769,   888820,   897471], dtype=int64),\n",
       " array([ 5,  3,  6,  4,  8,  1,  2,  7, 10,  9], dtype=int64),\n",
       " array([ 1,  4,  8, 10,  3,  7,  5,  2,  6,  9], dtype=int64),\n",
       " array([ 1,  4,  8, 10,  2,  3,  5,  6,  7,  9], dtype=int64),\n",
       " array([ 1,  5,  3,  8, 10,  4,  6,  2,  9,  7], dtype=int64),\n",
       " array([ 2,  7,  3,  1,  6,  4,  5,  8, 10,  9], dtype=int64),\n",
       " array([ 1, 10,  2,  4,  3,  9,  7,  5,  8,  6], dtype=int64),\n",
       " array([ 3,  9,  1,  2,  4,  5,  7,  8,  6, 10], dtype=int64),\n",
       " array([ 1,  2,  7,  4,  5,  3, 10,  6,  9,  8], dtype=int64),\n",
       " array([ 1,  5,  4,  2,  3,  7, 10,  8,  6], dtype=int64),\n",
       " array([2, 4], dtype=int64)]"
      ]
     },
     "execution_count": 589,
     "metadata": {},
     "output_type": "execute_result"
    }
   ],
   "source": [
    "collection = []\n",
    "for i in data:\n",
    "    collection.append(data[i].unique())\n",
    "\n",
    "collection"
   ]
  },
  {
   "cell_type": "code",
   "execution_count": 590,
   "metadata": {},
   "outputs": [],
   "source": [
    "#Conversion de variables cuantitativas a categoricas segun sea necesario\n",
    "\n",
    "# Clase de tumor\n",
    "def tumor_numeric_to_categoric(df):\n",
    "    buffer = []\n",
    "    for i in df['class']:\n",
    "        if i == 2:\n",
    "            buffer.append('benign')\n",
    "        elif i == 4:\n",
    "            buffer.append('malignant')\n",
    "    \n",
    "    return buffer\n",
    "\n",
    "data['class'] = tumor_numeric_to_categoric(data)\n"
   ]
  },
  {
   "cell_type": "code",
   "execution_count": 591,
   "metadata": {},
   "outputs": [
    {
     "data": {
      "text/plain": [
       "id                             category\n",
       "clump_thickness                   int64\n",
       "uniformity_cell_size              int64\n",
       "uniformity_cell_shape             int64\n",
       "marginal_adhesion                 int64\n",
       "single_epithelial_cell_size       int64\n",
       "bare_nuclei                       int64\n",
       "bland_chromatin                   int64\n",
       "normal_nucleoli                   int64\n",
       "mitoses                           int64\n",
       "class                          category\n",
       "dtype: object"
      ]
     },
     "execution_count": 591,
     "metadata": {},
     "output_type": "execute_result"
    }
   ],
   "source": [
    "#ID\n",
    "data['id'] = data['id'].apply(str)\n",
    "data = clean(data, method='dtypes', columns=['id', 'class'], dtype='category')\n",
    "\n",
    "data.dtypes"
   ]
  },
  {
   "cell_type": "code",
   "execution_count": 592,
   "metadata": {},
   "outputs": [],
   "source": [
    "# Limpieza de outliers:\n",
    "\n",
    "data = clean(data, method='outliers', columns=['bare_nuclei'])"
   ]
  },
  {
   "attachments": {},
   "cell_type": "markdown",
   "metadata": {},
   "source": [
    "#### Limpieza de variables que no se utilizaran"
   ]
  },
  {
   "cell_type": "code",
   "execution_count": 593,
   "metadata": {},
   "outputs": [],
   "source": [
    "# Las variables que se limpiaran a continuacion son las que no se utilizaran\n",
    "# debido a no ser relevantes en el objetivo de predecir si el tumor\n",
    "# es benigno o maligno en el paciente.\n",
    "# (Cada uno contara con su debida justificacion)\n",
    "\n",
    "# Mithoses, no tiene valores que vayan a aportar mucho al modelo, por lo que se\n",
    "# descarta.\n",
    "\n",
    "data = clean(data, method='dropcols', columns=['mitoses','uniformity_cell_size','marginal_adhesion', 'single_epithelial_cell_size', 'bare_nuclei', 'normal_nucleoli'])\n"
   ]
  },
  {
   "attachments": {},
   "cell_type": "markdown",
   "metadata": {},
   "source": [
    "### Resumen de la data"
   ]
  },
  {
   "cell_type": "code",
   "execution_count": 594,
   "metadata": {},
   "outputs": [
    {
     "name": "stderr",
     "output_type": "stream",
     "text": [
      "c:\\Users\\Jun\\AppData\\Local\\Programs\\Python\\Python310\\lib\\site-packages\\quickda\\explore_data.py:26: FutureWarning:\n",
      "\n",
      "The default value of numeric_only in DataFrame.min is deprecated. In a future version, it will default to False. In addition, specifying 'numeric_only=None' is deprecated. Select only valid columns or specify the value of numeric_only to silence this warning.\n",
      "\n",
      "c:\\Users\\Jun\\AppData\\Local\\Programs\\Python\\Python310\\lib\\site-packages\\quickda\\explore_data.py:27: FutureWarning:\n",
      "\n",
      "The default value of numeric_only in DataFrame.quantile is deprecated. In a future version, it will default to False. Select only valid columns or specify the value of numeric_only to silence this warning.\n",
      "\n",
      "c:\\Users\\Jun\\AppData\\Local\\Programs\\Python\\Python310\\lib\\site-packages\\quickda\\explore_data.py:28: FutureWarning:\n",
      "\n",
      "The default value of numeric_only in DataFrame.quantile is deprecated. In a future version, it will default to False. Select only valid columns or specify the value of numeric_only to silence this warning.\n",
      "\n",
      "c:\\Users\\Jun\\AppData\\Local\\Programs\\Python\\Python310\\lib\\site-packages\\quickda\\explore_data.py:29: FutureWarning:\n",
      "\n",
      "The default value of numeric_only in DataFrame.quantile is deprecated. In a future version, it will default to False. Select only valid columns or specify the value of numeric_only to silence this warning.\n",
      "\n",
      "c:\\Users\\Jun\\AppData\\Local\\Programs\\Python\\Python310\\lib\\site-packages\\quickda\\explore_data.py:30: FutureWarning:\n",
      "\n",
      "The default value of numeric_only in DataFrame.max is deprecated. In a future version, it will default to False. In addition, specifying 'numeric_only=None' is deprecated. Select only valid columns or specify the value of numeric_only to silence this warning.\n",
      "\n"
     ]
    },
    {
     "data": {
      "text/html": [
       "<div>\n",
       "<style scoped>\n",
       "    .dataframe tbody tr th:only-of-type {\n",
       "        vertical-align: middle;\n",
       "    }\n",
       "\n",
       "    .dataframe tbody tr th {\n",
       "        vertical-align: top;\n",
       "    }\n",
       "\n",
       "    .dataframe thead th {\n",
       "        text-align: right;\n",
       "    }\n",
       "</style>\n",
       "<table border=\"1\" class=\"dataframe\">\n",
       "  <thead>\n",
       "    <tr style=\"text-align: right;\">\n",
       "      <th></th>\n",
       "      <th>dtypes</th>\n",
       "      <th>count</th>\n",
       "      <th>null_sum</th>\n",
       "      <th>null_pct</th>\n",
       "      <th>nunique</th>\n",
       "      <th>min</th>\n",
       "      <th>25%</th>\n",
       "      <th>50%</th>\n",
       "      <th>75%</th>\n",
       "      <th>max</th>\n",
       "      <th>mean</th>\n",
       "      <th>median</th>\n",
       "      <th>std</th>\n",
       "      <th>skew</th>\n",
       "    </tr>\n",
       "  </thead>\n",
       "  <tbody>\n",
       "    <tr>\n",
       "      <th>bland_chromatin</th>\n",
       "      <td>int64</td>\n",
       "      <td>645</td>\n",
       "      <td>0</td>\n",
       "      <td>0.0</td>\n",
       "      <td>10</td>\n",
       "      <td>1.0</td>\n",
       "      <td>2.0</td>\n",
       "      <td>3.0</td>\n",
       "      <td>5.0</td>\n",
       "      <td>10.0</td>\n",
       "      <td>3.497674</td>\n",
       "      <td>3.0</td>\n",
       "      <td>2.459374</td>\n",
       "      <td>1.044778</td>\n",
       "    </tr>\n",
       "    <tr>\n",
       "      <th>class</th>\n",
       "      <td>category</td>\n",
       "      <td>645</td>\n",
       "      <td>0</td>\n",
       "      <td>0.0</td>\n",
       "      <td>2</td>\n",
       "      <td>-</td>\n",
       "      <td>-</td>\n",
       "      <td>-</td>\n",
       "      <td>-</td>\n",
       "      <td>-</td>\n",
       "      <td>-</td>\n",
       "      <td>-</td>\n",
       "      <td>-</td>\n",
       "      <td>-</td>\n",
       "    </tr>\n",
       "    <tr>\n",
       "      <th>clump_thickness</th>\n",
       "      <td>int64</td>\n",
       "      <td>645</td>\n",
       "      <td>0</td>\n",
       "      <td>0.0</td>\n",
       "      <td>10</td>\n",
       "      <td>1.0</td>\n",
       "      <td>2.0</td>\n",
       "      <td>4.0</td>\n",
       "      <td>6.0</td>\n",
       "      <td>10.0</td>\n",
       "      <td>4.471318</td>\n",
       "      <td>4.0</td>\n",
       "      <td>2.858115</td>\n",
       "      <td>0.569083</td>\n",
       "    </tr>\n",
       "    <tr>\n",
       "      <th>id</th>\n",
       "      <td>category</td>\n",
       "      <td>645</td>\n",
       "      <td>0</td>\n",
       "      <td>0.0</td>\n",
       "      <td>645</td>\n",
       "      <td>-</td>\n",
       "      <td>-</td>\n",
       "      <td>-</td>\n",
       "      <td>-</td>\n",
       "      <td>-</td>\n",
       "      <td>-</td>\n",
       "      <td>-</td>\n",
       "      <td>-</td>\n",
       "      <td>-</td>\n",
       "    </tr>\n",
       "    <tr>\n",
       "      <th>uniformity_cell_shape</th>\n",
       "      <td>int64</td>\n",
       "      <td>645</td>\n",
       "      <td>0</td>\n",
       "      <td>0.0</td>\n",
       "      <td>10</td>\n",
       "      <td>1.0</td>\n",
       "      <td>1.0</td>\n",
       "      <td>2.0</td>\n",
       "      <td>5.0</td>\n",
       "      <td>10.0</td>\n",
       "      <td>3.269767</td>\n",
       "      <td>2.0</td>\n",
       "      <td>2.985748</td>\n",
       "      <td>1.116038</td>\n",
       "    </tr>\n",
       "  </tbody>\n",
       "</table>\n",
       "</div>"
      ],
      "text/plain": [
       "                         dtypes  count  null_sum  null_pct  nunique  min  25%  \\\n",
       "bland_chromatin           int64    645         0       0.0       10  1.0  2.0   \n",
       "class                  category    645         0       0.0        2    -    -   \n",
       "clump_thickness           int64    645         0       0.0       10  1.0  2.0   \n",
       "id                     category    645         0       0.0      645    -    -   \n",
       "uniformity_cell_shape     int64    645         0       0.0       10  1.0  1.0   \n",
       "\n",
       "                       50%  75%   max      mean median       std      skew  \n",
       "bland_chromatin        3.0  5.0  10.0  3.497674    3.0  2.459374  1.044778  \n",
       "class                    -    -     -         -      -         -         -  \n",
       "clump_thickness        4.0  6.0  10.0  4.471318    4.0  2.858115  0.569083  \n",
       "id                       -    -     -         -      -         -         -  \n",
       "uniformity_cell_shape  2.0  5.0  10.0  3.269767    2.0  2.985748  1.116038  "
      ]
     },
     "execution_count": 594,
     "metadata": {},
     "output_type": "execute_result"
    }
   ],
   "source": [
    "explore(data, method='summarize')"
   ]
  },
  {
   "attachments": {},
   "cell_type": "markdown",
   "metadata": {},
   "source": [
    "#### Exploracion de variables numericas"
   ]
  },
  {
   "cell_type": "code",
   "execution_count": 595,
   "metadata": {},
   "outputs": [
    {
     "name": "stdout",
     "output_type": "stream",
     "text": [
      "Outlier Analysis - Boxplot\n"
     ]
    },
    {
     "data": {
      "image/png": "[encoded data removed]",
      "text/plain": [
       "<Figure size 2000x1000 with 1 Axes>"
      ]
     },
     "metadata": {},
     "output_type": "display_data"
    },
    {
     "data": {
      "image/png": "[encoded data removed]",
      "text/plain": [
       "<Figure size 2000x1000 with 1 Axes>"
      ]
     },
     "metadata": {},
     "output_type": "display_data"
    },
    {
     "data": {
      "image/png": "[encoded data removed]",
      "text/plain": [
       "<Figure size 2000x1000 with 1 Axes>"
      ]
     },
     "metadata": {},
     "output_type": "display_data"
    },
    {
     "name": "stdout",
     "output_type": "stream",
     "text": [
      "Distribution Analysis - Histogram\n"
     ]
    },
    {
     "data": {
      "image/png": "[encoded data removed]",
      "text/plain": [
       "<Figure size 2000x1000 with 1 Axes>"
      ]
     },
     "metadata": {},
     "output_type": "display_data"
    },
    {
     "data": {
      "image/png": "[encoded data removed]",
      "text/plain": [
       "<Figure size 2000x1000 with 1 Axes>"
      ]
     },
     "metadata": {},
     "output_type": "display_data"
    },
    {
     "data": {
      "image/png": "[encoded data removed]",
      "text/plain": [
       "<Figure size 2000x1000 with 1 Axes>"
      ]
     },
     "metadata": {},
     "output_type": "display_data"
    }
   ],
   "source": [
    "eda_num(data)"
   ]
  },
  {
   "cell_type": "code",
   "execution_count": 596,
   "metadata": {},
   "outputs": [
    {
     "name": "stdout",
     "output_type": "stream",
     "text": [
      "Correlation Analysis - Heatmap\n"
     ]
    },
    {
     "name": "stderr",
     "output_type": "stream",
     "text": [
      "c:\\Users\\Jun\\AppData\\Local\\Programs\\Python\\Python310\\lib\\site-packages\\quickda\\explore_numeric.py:28: FutureWarning:\n",
      "\n",
      "The default value of numeric_only in DataFrame.corr is deprecated. In a future version, it will default to False. Select only valid columns or specify the value of numeric_only to silence this warning.\n",
      "\n",
      "c:\\Users\\Jun\\AppData\\Local\\Programs\\Python\\Python310\\lib\\site-packages\\quickda\\explore_numeric.py:30: FutureWarning:\n",
      "\n",
      "this method is deprecated in favour of `Styler.format(precision=..)`\n",
      "\n"
     ]
    },
    {
     "data": {
      "text/html": [
       "<style type=\"text/css\">\n",
       "#T_b7be1_row0_col0, #T_b7be1_row1_col1, #T_b7be1_row2_col2 {\n",
       "  background-color: #b40426;\n",
       "  color: #f1f1f1;\n",
       "}\n",
       "#T_b7be1_row0_col1, #T_b7be1_row1_col0 {\n",
       "  background-color: #81a4fb;\n",
       "  color: #f1f1f1;\n",
       "}\n",
       "#T_b7be1_row0_col2, #T_b7be1_row2_col0 {\n",
       "  background-color: #3b4cc0;\n",
       "  color: #f1f1f1;\n",
       "}\n",
       "#T_b7be1_row1_col2, #T_b7be1_row2_col1 {\n",
       "  background-color: #bfd3f6;\n",
       "  color: #000000;\n",
       "}\n",
       "</style>\n",
       "<table id=\"T_b7be1\">\n",
       "  <thead>\n",
       "    <tr>\n",
       "      <th class=\"blank level0\" >&nbsp;</th>\n",
       "      <th id=\"T_b7be1_level0_col0\" class=\"col_heading level0 col0\" >clump_thickness</th>\n",
       "      <th id=\"T_b7be1_level0_col1\" class=\"col_heading level0 col1\" >uniformity_cell_shape</th>\n",
       "      <th id=\"T_b7be1_level0_col2\" class=\"col_heading level0 col2\" >bland_chromatin</th>\n",
       "    </tr>\n",
       "  </thead>\n",
       "  <tbody>\n",
       "    <tr>\n",
       "      <th id=\"T_b7be1_level0_row0\" class=\"row_heading level0 row0\" >clump_thickness</th>\n",
       "      <td id=\"T_b7be1_row0_col0\" class=\"data row0 col0\" >1.00</td>\n",
       "      <td id=\"T_b7be1_row0_col1\" class=\"data row0 col1\" >0.66</td>\n",
       "      <td id=\"T_b7be1_row0_col2\" class=\"data row0 col2\" >0.56</td>\n",
       "    </tr>\n",
       "    <tr>\n",
       "      <th id=\"T_b7be1_level0_row1\" class=\"row_heading level0 row1\" >uniformity_cell_shape</th>\n",
       "      <td id=\"T_b7be1_row1_col0\" class=\"data row1 col0\" >0.66</td>\n",
       "      <td id=\"T_b7be1_row1_col1\" class=\"data row1 col1\" >1.00</td>\n",
       "      <td id=\"T_b7be1_row1_col2\" class=\"data row1 col2\" >0.74</td>\n",
       "    </tr>\n",
       "    <tr>\n",
       "      <th id=\"T_b7be1_level0_row2\" class=\"row_heading level0 row2\" >bland_chromatin</th>\n",
       "      <td id=\"T_b7be1_row2_col0\" class=\"data row2 col0\" >0.56</td>\n",
       "      <td id=\"T_b7be1_row2_col1\" class=\"data row2 col1\" >0.74</td>\n",
       "      <td id=\"T_b7be1_row2_col2\" class=\"data row2 col2\" >1.00</td>\n",
       "    </tr>\n",
       "  </tbody>\n",
       "</table>\n"
      ],
      "text/plain": [
       "<pandas.io.formats.style.Styler at 0x179f28bdea0>"
      ]
     },
     "execution_count": 596,
     "metadata": {},
     "output_type": "execute_result"
    }
   ],
   "source": [
    "eda_num(data, method='correlation')"
   ]
  },
  {
   "cell_type": "code",
   "execution_count": 597,
   "metadata": {},
   "outputs": [
    {
     "name": "stdout",
     "output_type": "stream",
     "text": [
      "Bar Plot of class\n"
     ]
    },
    {
     "data": {
      "image/png": "[encoded data removed]",
      "text/plain": [
       "<Figure size 1500x500 with 1 Axes>"
      ]
     },
     "metadata": {},
     "output_type": "display_data"
    },
    {
     "name": "stdout",
     "output_type": "stream",
     "text": [
      "Summary of class\n"
     ]
    },
    {
     "data": {
      "text/html": [
       "<div>\n",
       "<style scoped>\n",
       "    .dataframe tbody tr th:only-of-type {\n",
       "        vertical-align: middle;\n",
       "    }\n",
       "\n",
       "    .dataframe tbody tr th {\n",
       "        vertical-align: top;\n",
       "    }\n",
       "\n",
       "    .dataframe thead th {\n",
       "        text-align: right;\n",
       "    }\n",
       "</style>\n",
       "<table border=\"1\" class=\"dataframe\">\n",
       "  <thead>\n",
       "    <tr style=\"text-align: right;\">\n",
       "      <th></th>\n",
       "      <th>count</th>\n",
       "      <th>relative_pct</th>\n",
       "    </tr>\n",
       "  </thead>\n",
       "  <tbody>\n",
       "    <tr>\n",
       "      <th>benign</th>\n",
       "      <td>413</td>\n",
       "      <td>0.64</td>\n",
       "    </tr>\n",
       "    <tr>\n",
       "      <th>malignant</th>\n",
       "      <td>232</td>\n",
       "      <td>0.36</td>\n",
       "    </tr>\n",
       "  </tbody>\n",
       "</table>\n",
       "</div>"
      ],
      "text/plain": [
       "           count  relative_pct\n",
       "benign       413          0.64\n",
       "malignant    232          0.36"
      ]
     },
     "execution_count": 597,
     "metadata": {},
     "output_type": "execute_result"
    }
   ],
   "source": [
    "eda_cat(data, x='class')"
   ]
  },
  {
   "cell_type": "code",
   "execution_count": 598,
   "metadata": {},
   "outputs": [
    {
     "name": "stdout",
     "output_type": "stream",
     "text": [
      "Feature Importance in the prediction of class\n"
     ]
    },
    {
     "data": {
      "image/png": "[encoded data removed]",
      "text/plain": [
       "<Figure size 2000x1000 with 1 Axes>"
      ]
     },
     "metadata": {},
     "output_type": "display_data"
    }
   ],
   "source": [
    "eda_numcat(data, x='class')"
   ]
  },
  {
   "cell_type": "code",
   "execution_count": 599,
   "metadata": {},
   "outputs": [
    {
     "data": {
      "text/plain": [
       "<AxesSubplot: xlabel='uniformity_cell_shape', ylabel='count'>"
      ]
     },
     "execution_count": 599,
     "metadata": {},
     "output_type": "execute_result"
    },
    {
     "data": {
      "image/png": "[encoded data removed]",
      "text/plain": [
       "<Figure size 2000x1000 with 1 Axes>"
      ]
     },
     "metadata": {},
     "output_type": "display_data"
    }
   ],
   "source": [
    "#Que efectos tendra la uniformidad de la forma de la celula en que un tumor sea maligno o benigno?\n",
    "\n",
    "sns.countplot(data=data, x='uniformity_cell_shape', hue='class')\n",
    "#Nota: En esta grafica se uede observar que mientras mayor sea el valor de tamaño de la celula, mayor\n",
    "# podria ser la posibilidad de que el tumor sea maligno, como se puede observar desde los valores 4 hasta el 10.\n"
   ]
  },
  {
   "cell_type": "code",
   "execution_count": 600,
   "metadata": {},
   "outputs": [
    {
     "data": {
      "text/plain": [
       "<AxesSubplot: xlabel='bland_chromatin', ylabel='count'>"
      ]
     },
     "execution_count": 600,
     "metadata": {},
     "output_type": "execute_result"
    },
    {
     "data": {
      "image/png": "[encoded data removed]",
      "text/plain": [
       "<Figure size 2000x1000 with 1 Axes>"
      ]
     },
     "metadata": {},
     "output_type": "display_data"
    }
   ],
   "source": [
    "# Tendra algun efecto los valores de cromatina blanda en la clase de tumor?\n",
    "sns.countplot(data=data, x='bland_chromatin', hue='class')\n",
    "\n",
    "# Nota: Se puede notar segun la grafica que a partir del valor de cromatina blanda 4 para arriba\n",
    "# se presenta una cantidad bastante considerable de casos maligno, lo que, a la hora de realizar\n",
    "# el modelo se deberia de tomar en cuenta debido a que es un valor que segun lo observado\n",
    "# se correlaciona mucho con el tipo de clase de tumor que es.\n",
    "\n",
    "# Importante tomar en cuenta en el modelo !!!"
   ]
  },
  {
   "cell_type": "code",
   "execution_count": 601,
   "metadata": {},
   "outputs": [
    {
     "data": {
      "text/plain": [
       "<AxesSubplot: xlabel='clump_thickness', ylabel='count'>"
      ]
     },
     "execution_count": 601,
     "metadata": {},
     "output_type": "execute_result"
    },
    {
     "data": {
      "image/png": "[encoded data removed]",
      "text/plain": [
       "<Figure size 2000x1000 with 1 Axes>"
      ]
     },
     "metadata": {},
     "output_type": "display_data"
    }
   ],
   "source": [
    "# Puede el valor de clump thickness afectar al valor class?\n",
    "\n",
    "sns.countplot(data=data, x='clump_thickness', hue='class')\n",
    "\n",
    "# Nota: En efecto afecta mucho los valores de ambos tipos de categorias, beningnos y malignos\n",
    "# por lo que nos podria ayudar mucho a entrenar el modelo para obtener una prediccion mas acertada.\n",
    "\n",
    "# Importante tomar en cuenta !!!"
   ]
  },
  {
   "attachments": {},
   "cell_type": "markdown",
   "metadata": {},
   "source": [
    "A partir de lo observado se encuentra que cada uno de los valores al ser muy elevados pueden significar casi automaticamente que el tumor vaya a ser maligno, ya que en la mayoria de las variables, al pasar cierto valor solo se encuentran casos de tumores malignos, sin embargo, para simplificacion del modelo, se podrian limpiar las variables con alta correlacion entre si o que en si tienen poca correlacion con si el tumor es benigno o maligno.\n",
    "\n",
    "- La uniformidad en el tamaño de la celula y uniformidad en la forma de la celula se puede obviar en una sola variable debido a que tienen una correlacion bastante alta.\n",
    "- La adhesion marginal se podria obviar debido a que tiene poca influencia en cuanto a la clase del tumor se refiere.\n",
    "- El tamaño epilethial tambien se puede obviar debido a la poca influencia sobre la clase del tumor.\n",
    "- Bare_nuclei y normal_nucleoli tambien al tener poca correlacion entre otros valores y encima tener poca correlacion con la clase de tumor se obviaran."
   ]
  },
  {
   "attachments": {},
   "cell_type": "markdown",
   "metadata": {},
   "source": [
    "## Desarrollo de modelo de clasificacion"
   ]
  },
  {
   "attachments": {},
   "cell_type": "markdown",
   "metadata": {},
   "source": [
    "### Regresion Logistica"
   ]
  },
  {
   "cell_type": "code",
   "execution_count": 602,
   "metadata": {},
   "outputs": [
    {
     "name": "stdout",
     "output_type": "stream",
     "text": [
      "[[ 5  1  3]\n",
      " [ 5  4  3]\n",
      " [ 3  1  3]\n",
      " ...\n",
      " [ 2  1  1]\n",
      " [ 5 10  8]\n",
      " [ 4  6 10]]\n",
      "['benign', 'benign', 'benign', 'benign', 'benign', ..., 'benign', 'benign', 'benign', 'malignant', 'malignant']\n",
      "Length: 645\n",
      "Categories (2, object): ['benign', 'malignant']\n"
     ]
    }
   ],
   "source": [
    "\n",
    "X = data.iloc[:, 1:-1].values #Valores: clump_thickness, uniformity_cell_shape bland_chromatin\n",
    "y = data.iloc[:, -1].values #Class (Benigno o Maligno)\n",
    "\n",
    "print(X)\n",
    "print(y)"
   ]
  },
  {
   "cell_type": "code",
   "execution_count": 603,
   "metadata": {},
   "outputs": [
    {
     "data": {
      "text/html": [
       "<div>\n",
       "<style scoped>\n",
       "    .dataframe tbody tr th:only-of-type {\n",
       "        vertical-align: middle;\n",
       "    }\n",
       "\n",
       "    .dataframe tbody tr th {\n",
       "        vertical-align: top;\n",
       "    }\n",
       "\n",
       "    .dataframe thead th {\n",
       "        text-align: right;\n",
       "    }\n",
       "</style>\n",
       "<table border=\"1\" class=\"dataframe\">\n",
       "  <thead>\n",
       "    <tr style=\"text-align: right;\">\n",
       "      <th></th>\n",
       "      <th>id</th>\n",
       "      <th>clump_thickness</th>\n",
       "      <th>uniformity_cell_shape</th>\n",
       "      <th>bland_chromatin</th>\n",
       "      <th>class</th>\n",
       "    </tr>\n",
       "  </thead>\n",
       "  <tbody>\n",
       "    <tr>\n",
       "      <th>0</th>\n",
       "      <td>1000025</td>\n",
       "      <td>5</td>\n",
       "      <td>1</td>\n",
       "      <td>3</td>\n",
       "      <td>benign</td>\n",
       "    </tr>\n",
       "    <tr>\n",
       "      <th>1</th>\n",
       "      <td>1002945</td>\n",
       "      <td>5</td>\n",
       "      <td>4</td>\n",
       "      <td>3</td>\n",
       "      <td>benign</td>\n",
       "    </tr>\n",
       "    <tr>\n",
       "      <th>2</th>\n",
       "      <td>1015425</td>\n",
       "      <td>3</td>\n",
       "      <td>1</td>\n",
       "      <td>3</td>\n",
       "      <td>benign</td>\n",
       "    </tr>\n",
       "    <tr>\n",
       "      <th>3</th>\n",
       "      <td>1016277</td>\n",
       "      <td>6</td>\n",
       "      <td>8</td>\n",
       "      <td>3</td>\n",
       "      <td>benign</td>\n",
       "    </tr>\n",
       "    <tr>\n",
       "      <th>4</th>\n",
       "      <td>1017023</td>\n",
       "      <td>4</td>\n",
       "      <td>1</td>\n",
       "      <td>3</td>\n",
       "      <td>benign</td>\n",
       "    </tr>\n",
       "    <tr>\n",
       "      <th>...</th>\n",
       "      <td>...</td>\n",
       "      <td>...</td>\n",
       "      <td>...</td>\n",
       "      <td>...</td>\n",
       "      <td>...</td>\n",
       "    </tr>\n",
       "    <tr>\n",
       "      <th>693</th>\n",
       "      <td>763235</td>\n",
       "      <td>3</td>\n",
       "      <td>1</td>\n",
       "      <td>2</td>\n",
       "      <td>benign</td>\n",
       "    </tr>\n",
       "    <tr>\n",
       "      <th>694</th>\n",
       "      <td>776715</td>\n",
       "      <td>3</td>\n",
       "      <td>1</td>\n",
       "      <td>1</td>\n",
       "      <td>benign</td>\n",
       "    </tr>\n",
       "    <tr>\n",
       "      <th>695</th>\n",
       "      <td>841769</td>\n",
       "      <td>2</td>\n",
       "      <td>1</td>\n",
       "      <td>1</td>\n",
       "      <td>benign</td>\n",
       "    </tr>\n",
       "    <tr>\n",
       "      <th>696</th>\n",
       "      <td>888820</td>\n",
       "      <td>5</td>\n",
       "      <td>10</td>\n",
       "      <td>8</td>\n",
       "      <td>malignant</td>\n",
       "    </tr>\n",
       "    <tr>\n",
       "      <th>697</th>\n",
       "      <td>897471</td>\n",
       "      <td>4</td>\n",
       "      <td>6</td>\n",
       "      <td>10</td>\n",
       "      <td>malignant</td>\n",
       "    </tr>\n",
       "  </tbody>\n",
       "</table>\n",
       "<p>645 rows × 5 columns</p>\n",
       "</div>"
      ],
      "text/plain": [
       "          id  clump_thickness  uniformity_cell_shape  bland_chromatin  \\\n",
       "0    1000025                5                      1                3   \n",
       "1    1002945                5                      4                3   \n",
       "2    1015425                3                      1                3   \n",
       "3    1016277                6                      8                3   \n",
       "4    1017023                4                      1                3   \n",
       "..       ...              ...                    ...              ...   \n",
       "693   763235                3                      1                2   \n",
       "694   776715                3                      1                1   \n",
       "695   841769                2                      1                1   \n",
       "696   888820                5                     10                8   \n",
       "697   897471                4                      6               10   \n",
       "\n",
       "         class  \n",
       "0       benign  \n",
       "1       benign  \n",
       "2       benign  \n",
       "3       benign  \n",
       "4       benign  \n",
       "..         ...  \n",
       "693     benign  \n",
       "694     benign  \n",
       "695     benign  \n",
       "696  malignant  \n",
       "697  malignant  \n",
       "\n",
       "[645 rows x 5 columns]"
      ]
     },
     "execution_count": 603,
     "metadata": {},
     "output_type": "execute_result"
    }
   ],
   "source": [
    "data"
   ]
  },
  {
   "cell_type": "code",
   "execution_count": 604,
   "metadata": {},
   "outputs": [],
   "source": [
    "from sklearn.model_selection import train_test_split\n",
    "X_entreno, X_prueba, y_entreno, y_prueba = train_test_split(X, y, test_size = 0.25, random_state = 0)"
   ]
  },
  {
   "cell_type": "code",
   "execution_count": 605,
   "metadata": {},
   "outputs": [
    {
     "name": "stdout",
     "output_type": "stream",
     "text": [
      "[[5 6 8]\n",
      " [1 1 5]\n",
      " [5 2 1]\n",
      " ...\n",
      " [3 1 2]\n",
      " [2 1 1]\n",
      " [1 1 2]]\n"
     ]
    }
   ],
   "source": [
    "print(X_entreno)"
   ]
  },
  {
   "cell_type": "code",
   "execution_count": 606,
   "metadata": {},
   "outputs": [
    {
     "name": "stdout",
     "output_type": "stream",
     "text": [
      "['malignant', 'benign', 'benign', 'benign', 'benign', ..., 'benign', 'malignant', 'benign', 'benign', 'benign']\n",
      "Length: 483\n",
      "Categories (2, object): ['benign', 'malignant']\n"
     ]
    }
   ],
   "source": [
    "print(y_entreno)"
   ]
  },
  {
   "cell_type": "code",
   "execution_count": 607,
   "metadata": {},
   "outputs": [
    {
     "name": "stdout",
     "output_type": "stream",
     "text": [
      "[[ 5  1  2]\n",
      " [ 7 10  9]\n",
      " [ 8  7  3]\n",
      " [ 7  4  5]\n",
      " [ 7  5  3]\n",
      " [ 3  1  1]\n",
      " [ 1  2  1]\n",
      " [ 8  4  3]\n",
      " [ 4  1  2]\n",
      " [ 4  1  3]\n",
      " [ 3  1  2]\n",
      " [ 1  3  2]\n",
      " [ 4  1  3]\n",
      " [10 10  8]\n",
      " [ 5  1  3]\n",
      " [ 6  7  8]\n",
      " [ 8  6  6]\n",
      " [ 2  1  1]\n",
      " [ 8 10  3]\n",
      " [ 8 10  8]\n",
      " [10  5  7]\n",
      " [ 3  7  7]\n",
      " [ 3  1  3]\n",
      " [ 3  1  1]\n",
      " [ 5  1  2]\n",
      " [ 5  1  1]\n",
      " [ 3  4  1]\n",
      " [ 1  1  3]\n",
      " [ 1  1  3]\n",
      " [ 5  1  1]\n",
      " [10  6  4]\n",
      " [10  8 10]\n",
      " [ 3  1  2]\n",
      " [ 5 10 10]\n",
      " [ 3  2  3]\n",
      " [ 5  1  2]\n",
      " [10  8  8]\n",
      " [ 2  1  1]\n",
      " [ 3  1  2]\n",
      " [ 1  1  3]\n",
      " [ 4  6 10]\n",
      " [ 4  1  2]\n",
      " [ 5  6  4]\n",
      " [ 5  6  8]\n",
      " [ 3  1  2]\n",
      " [ 1  1  3]\n",
      " [ 3  1  1]\n",
      " [ 5  1  1]\n",
      " [ 1  1  1]\n",
      " [ 4  2  2]\n",
      " [ 9  8  2]\n",
      " [ 1  1  1]\n",
      " [10  7  3]\n",
      " [ 2  1  2]\n",
      " [10  5  3]\n",
      " [ 1  1  1]\n",
      " [ 7  6  4]\n",
      " [ 4  1  3]\n",
      " [ 6  1  3]\n",
      " [10  5  8]\n",
      " [ 3  1  3]\n",
      " [ 8  4  5]\n",
      " [ 5  3  3]\n",
      " [ 1  1  2]\n",
      " [10  4  5]\n",
      " [ 1  3  3]\n",
      " [10 10 10]\n",
      " [10  8  5]\n",
      " [ 1  1  3]\n",
      " [10  7  4]\n",
      " [ 6  3  6]\n",
      " [ 3  5  7]\n",
      " [ 2  1  1]\n",
      " [ 5  1  3]\n",
      " [ 3  1  1]\n",
      " [ 2  1  2]\n",
      " [ 5  1  1]\n",
      " [ 1  1  1]\n",
      " [ 7  8  7]\n",
      " [ 4  1  3]\n",
      " [ 4  1  3]\n",
      " [ 5  1  3]\n",
      " [ 3  1  1]\n",
      " [ 8  5  4]\n",
      " [ 1  1  2]\n",
      " [ 1  1  1]\n",
      " [ 2  1  3]\n",
      " [ 9  7  7]\n",
      " [ 1  1  3]\n",
      " [ 3  1  3]\n",
      " [ 1  1  1]\n",
      " [ 5  4  3]\n",
      " [ 8  5  1]\n",
      " [ 1  3  1]\n",
      " [ 2  1  1]\n",
      " [ 4  1  2]\n",
      " [ 1  1  2]\n",
      " [10 10  4]\n",
      " [ 8  8  5]\n",
      " [ 2  1  1]\n",
      " [ 5  2  1]\n",
      " [ 3  2  2]\n",
      " [ 2  1  3]\n",
      " [ 3  1  2]\n",
      " [ 2  1  2]\n",
      " [ 5  3  2]\n",
      " [ 5  1  2]\n",
      " [ 1  1  3]\n",
      " [ 1  1  1]\n",
      " [10 10  8]\n",
      " [10  5  7]\n",
      " [ 3  2  2]\n",
      " [ 1  1  3]\n",
      " [ 1  1  1]\n",
      " [ 3  1  2]\n",
      " [ 3  1  3]\n",
      " [ 4  1  1]\n",
      " [ 3  1  1]\n",
      " [ 4  1  1]\n",
      " [ 5  4  4]\n",
      " [ 1  1  1]\n",
      " [ 3  1  2]\n",
      " [ 2  3  7]\n",
      " [ 5  1  1]\n",
      " [ 6  1  1]\n",
      " [ 8  4  3]\n",
      " [ 6  1  2]\n",
      " [10 10  8]\n",
      " [ 8  9 10]\n",
      " [ 4  6  7]\n",
      " [ 5  1  3]\n",
      " [ 2  1  3]\n",
      " [ 7  7  7]\n",
      " [ 3  1  5]\n",
      " [ 2  1  1]\n",
      " [ 1  1  3]\n",
      " [ 1  1  2]\n",
      " [ 4  2  2]\n",
      " [ 8 10  7]\n",
      " [ 2  2  7]\n",
      " [ 1  1  3]\n",
      " [ 5  3  2]\n",
      " [ 8  8  8]\n",
      " [ 6  1  1]\n",
      " [ 5  2  2]\n",
      " [ 4  4  2]\n",
      " [ 6  5  3]\n",
      " [ 4  1  2]\n",
      " [ 1  1  3]\n",
      " [ 8  8  7]\n",
      " [ 6  3  3]\n",
      " [ 6 10  7]\n",
      " [ 2  1  1]\n",
      " [ 8  9  7]\n",
      " [ 3  1  1]\n",
      " [ 4  1  1]\n",
      " [ 5  1  1]\n",
      " [10  6  9]\n",
      " [10  7  6]\n",
      " [ 1  1  2]\n",
      " [ 3  1  2]\n",
      " [ 5  1  2]]\n"
     ]
    }
   ],
   "source": [
    "print(X_prueba)"
   ]
  },
  {
   "cell_type": "code",
   "execution_count": 608,
   "metadata": {},
   "outputs": [
    {
     "name": "stdout",
     "output_type": "stream",
     "text": [
      "['benign', 'malignant', 'malignant', 'malignant', 'malignant', ..., 'malignant', 'malignant', 'benign', 'benign', 'benign']\n",
      "Length: 162\n",
      "Categories (2, object): ['benign', 'malignant']\n"
     ]
    }
   ],
   "source": [
    "print(y_prueba)"
   ]
  },
  {
   "attachments": {},
   "cell_type": "markdown",
   "metadata": {},
   "source": [
    "#### Escalamiento / Normalizacion"
   ]
  },
  {
   "cell_type": "code",
   "execution_count": 609,
   "metadata": {},
   "outputs": [],
   "source": [
    "from sklearn.preprocessing import StandardScaler\n",
    "normalizador = StandardScaler()\n",
    "X_entreno = normalizador.fit_transform(X_entreno)\n",
    "X_prueba = normalizador.transform(X_prueba)"
   ]
  },
  {
   "cell_type": "code",
   "execution_count": 610,
   "metadata": {},
   "outputs": [
    {
     "name": "stdout",
     "output_type": "stream",
     "text": [
      "[[ 0.19999773  0.89986194  1.82166079]\n",
      " [-1.20507721 -0.77180467  0.59736279]\n",
      " [ 0.19999773 -0.43747134 -1.03503454]\n",
      " ...\n",
      " [-0.50253974 -0.77180467 -0.62693521]\n",
      " [-0.85380847 -0.77180467 -1.03503454]\n",
      " [-1.20507721 -0.77180467 -0.62693521]]\n"
     ]
    }
   ],
   "source": [
    "print(X_entreno)"
   ]
  },
  {
   "cell_type": "code",
   "execution_count": 611,
   "metadata": {},
   "outputs": [
    {
     "name": "stdout",
     "output_type": "stream",
     "text": [
      "[[ 0.19999773 -0.77180467 -0.62693521]\n",
      " [ 0.90253519  2.23719523  2.22976012]\n",
      " [ 1.25380392  1.23419526 -0.21883587]\n",
      " [ 0.90253519  0.2311953   0.59736279]\n",
      " [ 0.90253519  0.56552862 -0.21883587]\n",
      " [-0.50253974 -0.77180467 -1.03503454]\n",
      " [-1.20507721 -0.43747134 -1.03503454]\n",
      " [ 1.25380392  0.2311953  -0.21883587]\n",
      " [-0.15127101 -0.77180467 -0.62693521]\n",
      " [-0.15127101 -0.77180467 -0.21883587]\n",
      " [-0.50253974 -0.77180467 -0.62693521]\n",
      " [-1.20507721 -0.10313802 -0.62693521]\n",
      " [-0.15127101 -0.77180467 -0.21883587]\n",
      " [ 1.95634139  2.23719523  1.82166079]\n",
      " [ 0.19999773 -0.77180467 -0.21883587]\n",
      " [ 0.55126646  1.23419526  1.82166079]\n",
      " [ 1.25380392  0.89986194  1.00546212]\n",
      " [-0.85380847 -0.77180467 -1.03503454]\n",
      " [ 1.25380392  2.23719523 -0.21883587]\n",
      " [ 1.25380392  2.23719523  1.82166079]\n",
      " [ 1.95634139  0.56552862  1.41356146]\n",
      " [-0.50253974  1.23419526  1.41356146]\n",
      " [-0.50253974 -0.77180467 -0.21883587]\n",
      " [-0.50253974 -0.77180467 -1.03503454]\n",
      " [ 0.19999773 -0.77180467 -0.62693521]\n",
      " [ 0.19999773 -0.77180467 -1.03503454]\n",
      " [-0.50253974  0.2311953  -1.03503454]\n",
      " [-1.20507721 -0.77180467 -0.21883587]\n",
      " [-1.20507721 -0.77180467 -0.21883587]\n",
      " [ 0.19999773 -0.77180467 -1.03503454]\n",
      " [ 1.95634139  0.89986194  0.18926346]\n",
      " [ 1.95634139  1.56852859  2.63785946]\n",
      " [-0.50253974 -0.77180467 -0.62693521]\n",
      " [ 0.19999773  2.23719523  2.63785946]\n",
      " [-0.50253974 -0.43747134 -0.21883587]\n",
      " [ 0.19999773 -0.77180467 -0.62693521]\n",
      " [ 1.95634139  1.56852859  1.82166079]\n",
      " [-0.85380847 -0.77180467 -1.03503454]\n",
      " [-0.50253974 -0.77180467 -0.62693521]\n",
      " [-1.20507721 -0.77180467 -0.21883587]\n",
      " [-0.15127101  0.89986194  2.63785946]\n",
      " [-0.15127101 -0.77180467 -0.62693521]\n",
      " [ 0.19999773  0.89986194  0.18926346]\n",
      " [ 0.19999773  0.89986194  1.82166079]\n",
      " [-0.50253974 -0.77180467 -0.62693521]\n",
      " [-1.20507721 -0.77180467 -0.21883587]\n",
      " [-0.50253974 -0.77180467 -1.03503454]\n",
      " [ 0.19999773 -0.77180467 -1.03503454]\n",
      " [-1.20507721 -0.77180467 -1.03503454]\n",
      " [-0.15127101 -0.43747134 -0.62693521]\n",
      " [ 1.60507266  1.56852859 -0.62693521]\n",
      " [-1.20507721 -0.77180467 -1.03503454]\n",
      " [ 1.95634139  1.23419526 -0.21883587]\n",
      " [-0.85380847 -0.77180467 -0.62693521]\n",
      " [ 1.95634139  0.56552862 -0.21883587]\n",
      " [-1.20507721 -0.77180467 -1.03503454]\n",
      " [ 0.90253519  0.89986194  0.18926346]\n",
      " [-0.15127101 -0.77180467 -0.21883587]\n",
      " [ 0.55126646 -0.77180467 -0.21883587]\n",
      " [ 1.95634139  0.56552862  1.82166079]\n",
      " [-0.50253974 -0.77180467 -0.21883587]\n",
      " [ 1.25380392  0.2311953   0.59736279]\n",
      " [ 0.19999773 -0.10313802 -0.21883587]\n",
      " [-1.20507721 -0.77180467 -0.62693521]\n",
      " [ 1.95634139  0.2311953   0.59736279]\n",
      " [-1.20507721 -0.10313802 -0.21883587]\n",
      " [ 1.95634139  2.23719523  2.63785946]\n",
      " [ 1.95634139  1.56852859  0.59736279]\n",
      " [-1.20507721 -0.77180467 -0.21883587]\n",
      " [ 1.95634139  1.23419526  0.18926346]\n",
      " [ 0.55126646 -0.10313802  1.00546212]\n",
      " [-0.50253974  0.56552862  1.41356146]\n",
      " [-0.85380847 -0.77180467 -1.03503454]\n",
      " [ 0.19999773 -0.77180467 -0.21883587]\n",
      " [-0.50253974 -0.77180467 -1.03503454]\n",
      " [-0.85380847 -0.77180467 -0.62693521]\n",
      " [ 0.19999773 -0.77180467 -1.03503454]\n",
      " [-1.20507721 -0.77180467 -1.03503454]\n",
      " [ 0.90253519  1.56852859  1.41356146]\n",
      " [-0.15127101 -0.77180467 -0.21883587]\n",
      " [-0.15127101 -0.77180467 -0.21883587]\n",
      " [ 0.19999773 -0.77180467 -0.21883587]\n",
      " [-0.50253974 -0.77180467 -1.03503454]\n",
      " [ 1.25380392  0.56552862  0.18926346]\n",
      " [-1.20507721 -0.77180467 -0.62693521]\n",
      " [-1.20507721 -0.77180467 -1.03503454]\n",
      " [-0.85380847 -0.77180467 -0.21883587]\n",
      " [ 1.60507266  1.23419526  1.41356146]\n",
      " [-1.20507721 -0.77180467 -0.21883587]\n",
      " [-0.50253974 -0.77180467 -0.21883587]\n",
      " [-1.20507721 -0.77180467 -1.03503454]\n",
      " [ 0.19999773  0.2311953  -0.21883587]\n",
      " [ 1.25380392  0.56552862 -1.03503454]\n",
      " [-1.20507721 -0.10313802 -1.03503454]\n",
      " [-0.85380847 -0.77180467 -1.03503454]\n",
      " [-0.15127101 -0.77180467 -0.62693521]\n",
      " [-1.20507721 -0.77180467 -0.62693521]\n",
      " [ 1.95634139  2.23719523  0.18926346]\n",
      " [ 1.25380392  1.56852859  0.59736279]\n",
      " [-0.85380847 -0.77180467 -1.03503454]\n",
      " [ 0.19999773 -0.43747134 -1.03503454]\n",
      " [-0.50253974 -0.43747134 -0.62693521]\n",
      " [-0.85380847 -0.77180467 -0.21883587]\n",
      " [-0.50253974 -0.77180467 -0.62693521]\n",
      " [-0.85380847 -0.77180467 -0.62693521]\n",
      " [ 0.19999773 -0.10313802 -0.62693521]\n",
      " [ 0.19999773 -0.77180467 -0.62693521]\n",
      " [-1.20507721 -0.77180467 -0.21883587]\n",
      " [-1.20507721 -0.77180467 -1.03503454]\n",
      " [ 1.95634139  2.23719523  1.82166079]\n",
      " [ 1.95634139  0.56552862  1.41356146]\n",
      " [-0.50253974 -0.43747134 -0.62693521]\n",
      " [-1.20507721 -0.77180467 -0.21883587]\n",
      " [-1.20507721 -0.77180467 -1.03503454]\n",
      " [-0.50253974 -0.77180467 -0.62693521]\n",
      " [-0.50253974 -0.77180467 -0.21883587]\n",
      " [-0.15127101 -0.77180467 -1.03503454]\n",
      " [-0.50253974 -0.77180467 -1.03503454]\n",
      " [-0.15127101 -0.77180467 -1.03503454]\n",
      " [ 0.19999773  0.2311953   0.18926346]\n",
      " [-1.20507721 -0.77180467 -1.03503454]\n",
      " [-0.50253974 -0.77180467 -0.62693521]\n",
      " [-0.85380847 -0.10313802  1.41356146]\n",
      " [ 0.19999773 -0.77180467 -1.03503454]\n",
      " [ 0.55126646 -0.77180467 -1.03503454]\n",
      " [ 1.25380392  0.2311953  -0.21883587]\n",
      " [ 0.55126646 -0.77180467 -0.62693521]\n",
      " [ 1.95634139  2.23719523  1.82166079]\n",
      " [ 1.25380392  1.90286191  2.63785946]\n",
      " [-0.15127101  0.89986194  1.41356146]\n",
      " [ 0.19999773 -0.77180467 -0.21883587]\n",
      " [-0.85380847 -0.77180467 -0.21883587]\n",
      " [ 0.90253519  1.23419526  1.41356146]\n",
      " [-0.50253974 -0.77180467  0.59736279]\n",
      " [-0.85380847 -0.77180467 -1.03503454]\n",
      " [-1.20507721 -0.77180467 -0.21883587]\n",
      " [-1.20507721 -0.77180467 -0.62693521]\n",
      " [-0.15127101 -0.43747134 -0.62693521]\n",
      " [ 1.25380392  2.23719523  1.41356146]\n",
      " [-0.85380847 -0.43747134  1.41356146]\n",
      " [-1.20507721 -0.77180467 -0.21883587]\n",
      " [ 0.19999773 -0.10313802 -0.62693521]\n",
      " [ 1.25380392  1.56852859  1.82166079]\n",
      " [ 0.55126646 -0.77180467 -1.03503454]\n",
      " [ 0.19999773 -0.43747134 -0.62693521]\n",
      " [-0.15127101  0.2311953  -0.62693521]\n",
      " [ 0.55126646  0.56552862 -0.21883587]\n",
      " [-0.15127101 -0.77180467 -0.62693521]\n",
      " [-1.20507721 -0.77180467 -0.21883587]\n",
      " [ 1.25380392  1.56852859  1.41356146]\n",
      " [ 0.55126646 -0.10313802 -0.21883587]\n",
      " [ 0.55126646  2.23719523  1.41356146]\n",
      " [-0.85380847 -0.77180467 -1.03503454]\n",
      " [ 1.25380392  1.90286191  1.41356146]\n",
      " [-0.50253974 -0.77180467 -1.03503454]\n",
      " [-0.15127101 -0.77180467 -1.03503454]\n",
      " [ 0.19999773 -0.77180467 -1.03503454]\n",
      " [ 1.95634139  0.89986194  2.22976012]\n",
      " [ 1.95634139  1.23419526  1.00546212]\n",
      " [-1.20507721 -0.77180467 -0.62693521]\n",
      " [-0.50253974 -0.77180467 -0.62693521]\n",
      " [ 0.19999773 -0.77180467 -0.62693521]]\n"
     ]
    }
   ],
   "source": [
    "print(X_prueba)"
   ]
  },
  {
   "attachments": {},
   "cell_type": "markdown",
   "metadata": {},
   "source": [
    "#### Entrenamiento del modelo de regresion logistica"
   ]
  },
  {
   "cell_type": "code",
   "execution_count": 612,
   "metadata": {},
   "outputs": [
    {
     "data": {
      "text/html": [
       "<style>#sk-container-id-12 {color: black;background-color: white;}#sk-container-id-12 pre{padding: 0;}#sk-container-id-12 div.sk-toggleable {background-color: white;}#sk-container-id-12 label.sk-toggleable__label {cursor: pointer;display: block;width: 100%;margin-bottom: 0;padding: 0.3em;box-sizing: border-box;text-align: center;}#sk-container-id-12 label.sk-toggleable__label-arrow:before {content: \"▸\";float: left;margin-right: 0.25em;color: #696969;}#sk-container-id-12 label.sk-toggleable__label-arrow:hover:before {color: black;}#sk-container-id-12 div.sk-estimator:hover label.sk-toggleable__label-arrow:before {color: black;}#sk-container-id-12 div.sk-toggleable__content {max-height: 0;max-width: 0;overflow: hidden;text-align: left;background-color: #f0f8ff;}#sk-container-id-12 div.sk-toggleable__content pre {margin: 0.2em;color: black;border-radius: 0.25em;background-color: #f0f8ff;}#sk-container-id-12 input.sk-toggleable__control:checked~div.sk-toggleable__content {max-height: 200px;max-width: 100%;overflow: auto;}#sk-container-id-12 input.sk-toggleable__control:checked~label.sk-toggleable__label-arrow:before {content: \"▾\";}#sk-container-id-12 div.sk-estimator input.sk-toggleable__control:checked~label.sk-toggleable__label {background-color: #d4ebff;}#sk-container-id-12 div.sk-label input.sk-toggleable__control:checked~label.sk-toggleable__label {background-color: #d4ebff;}#sk-container-id-12 input.sk-hidden--visually {border: 0;clip: rect(1px 1px 1px 1px);clip: rect(1px, 1px, 1px, 1px);height: 1px;margin: -1px;overflow: hidden;padding: 0;position: absolute;width: 1px;}#sk-container-id-12 div.sk-estimator {font-family: monospace;background-color: #f0f8ff;border: 1px dotted black;border-radius: 0.25em;box-sizing: border-box;margin-bottom: 0.5em;}#sk-container-id-12 div.sk-estimator:hover {background-color: #d4ebff;}#sk-container-id-12 div.sk-parallel-item::after {content: \"\";width: 100%;border-bottom: 1px solid gray;flex-grow: 1;}#sk-container-id-12 div.sk-label:hover label.sk-toggleable__label {background-color: #d4ebff;}#sk-container-id-12 div.sk-serial::before {content: \"\";position: absolute;border-left: 1px solid gray;box-sizing: border-box;top: 0;bottom: 0;left: 50%;z-index: 0;}#sk-container-id-12 div.sk-serial {display: flex;flex-direction: column;align-items: center;background-color: white;padding-right: 0.2em;padding-left: 0.2em;position: relative;}#sk-container-id-12 div.sk-item {position: relative;z-index: 1;}#sk-container-id-12 div.sk-parallel {display: flex;align-items: stretch;justify-content: center;background-color: white;position: relative;}#sk-container-id-12 div.sk-item::before, #sk-container-id-12 div.sk-parallel-item::before {content: \"\";position: absolute;border-left: 1px solid gray;box-sizing: border-box;top: 0;bottom: 0;left: 50%;z-index: -1;}#sk-container-id-12 div.sk-parallel-item {display: flex;flex-direction: column;z-index: 1;position: relative;background-color: white;}#sk-container-id-12 div.sk-parallel-item:first-child::after {align-self: flex-end;width: 50%;}#sk-container-id-12 div.sk-parallel-item:last-child::after {align-self: flex-start;width: 50%;}#sk-container-id-12 div.sk-parallel-item:only-child::after {width: 0;}#sk-container-id-12 div.sk-dashed-wrapped {border: 1px dashed gray;margin: 0 0.4em 0.5em 0.4em;box-sizing: border-box;padding-bottom: 0.4em;background-color: white;}#sk-container-id-12 div.sk-label label {font-family: monospace;font-weight: bold;display: inline-block;line-height: 1.2em;}#sk-container-id-12 div.sk-label-container {text-align: center;}#sk-container-id-12 div.sk-container {/* jupyter's `normalize.less` sets `[hidden] { display: none; }` but bootstrap.min.css set `[hidden] { display: none !important; }` so we also need the `!important` here to be able to override the default hidden behavior on the sphinx rendered scikit-learn.org. See: https://github.com/scikit-learn/scikit-learn/issues/21755 */display: inline-block !important;position: relative;}#sk-container-id-12 div.sk-text-repr-fallback {display: none;}</style><div id=\"sk-container-id-12\" class=\"sk-top-container\"><div class=\"sk-text-repr-fallback\"><pre>LogisticRegression(random_state=0)</pre><b>In a Jupyter environment, please rerun this cell to show the HTML representation or trust the notebook. <br />On GitHub, the HTML representation is unable to render, please try loading this page with nbviewer.org.</b></div><div class=\"sk-container\" hidden><div class=\"sk-item\"><div class=\"sk-estimator sk-toggleable\"><input class=\"sk-toggleable__control sk-hidden--visually\" id=\"sk-estimator-id-12\" type=\"checkbox\" checked><label for=\"sk-estimator-id-12\" class=\"sk-toggleable__label sk-toggleable__label-arrow\">LogisticRegression</label><div class=\"sk-toggleable__content\"><pre>LogisticRegression(random_state=0)</pre></div></div></div></div></div>"
      ],
      "text/plain": [
       "LogisticRegression(random_state=0)"
      ]
     },
     "execution_count": 612,
     "metadata": {},
     "output_type": "execute_result"
    }
   ],
   "source": [
    "from sklearn.linear_model import LogisticRegression\n",
    "clasificador = LogisticRegression(random_state = 0)\n",
    "clasificador.fit(X_entreno, y_entreno)"
   ]
  },
  {
   "cell_type": "code",
   "execution_count": 613,
   "metadata": {},
   "outputs": [
    {
     "name": "stdout",
     "output_type": "stream",
     "text": [
      "['benign']\n"
     ]
    }
   ],
   "source": [
    "print(clasificador.predict(normalizador.transform([[5,1,3]])))\n",
    "#Valores: clump_thickness, uniformity_cell_shape bland_chromatin"
   ]
  },
  {
   "attachments": {},
   "cell_type": "markdown",
   "metadata": {},
   "source": [
    "#### Prediccion de los resultados del conjunto de datos de prueba"
   ]
  },
  {
   "cell_type": "code",
   "execution_count": 614,
   "metadata": {},
   "outputs": [
    {
     "name": "stdout",
     "output_type": "stream",
     "text": [
      "[['benign' 'benign']\n",
      " ['malignant' 'malignant']\n",
      " ['malignant' 'malignant']\n",
      " ['malignant' 'malignant']\n",
      " ['malignant' 'malignant']\n",
      " ['benign' 'benign']\n",
      " ['benign' 'benign']\n",
      " ['malignant' 'malignant']\n",
      " ['benign' 'benign']\n",
      " ['benign' 'benign']\n",
      " ['benign' 'benign']\n",
      " ['benign' 'benign']\n",
      " ['benign' 'benign']\n",
      " ['malignant' 'malignant']\n",
      " ['benign' 'benign']\n",
      " ['malignant' 'malignant']\n",
      " ['malignant' 'malignant']\n",
      " ['benign' 'benign']\n",
      " ['malignant' 'malignant']\n",
      " ['malignant' 'malignant']\n",
      " ['malignant' 'malignant']\n",
      " ['malignant' 'malignant']\n",
      " ['benign' 'benign']\n",
      " ['benign' 'benign']\n",
      " ['benign' 'benign']\n",
      " ['benign' 'benign']\n",
      " ['benign' 'benign']\n",
      " ['benign' 'benign']\n",
      " ['benign' 'benign']\n",
      " ['benign' 'benign']\n",
      " ['malignant' 'malignant']\n",
      " ['malignant' 'malignant']\n",
      " ['benign' 'benign']\n",
      " ['malignant' 'malignant']\n",
      " ['benign' 'benign']\n",
      " ['benign' 'benign']\n",
      " ['malignant' 'malignant']\n",
      " ['benign' 'benign']\n",
      " ['benign' 'benign']\n",
      " ['benign' 'benign']\n",
      " ['malignant' 'malignant']\n",
      " ['benign' 'benign']\n",
      " ['malignant' 'malignant']\n",
      " ['malignant' 'malignant']\n",
      " ['benign' 'benign']\n",
      " ['benign' 'benign']\n",
      " ['benign' 'benign']\n",
      " ['benign' 'benign']\n",
      " ['benign' 'benign']\n",
      " ['benign' 'benign']\n",
      " ['malignant' 'malignant']\n",
      " ['benign' 'benign']\n",
      " ['malignant' 'malignant']\n",
      " ['benign' 'benign']\n",
      " ['malignant' 'malignant']\n",
      " ['benign' 'benign']\n",
      " ['malignant' 'malignant']\n",
      " ['benign' 'benign']\n",
      " ['benign' 'benign']\n",
      " ['malignant' 'malignant']\n",
      " ['benign' 'benign']\n",
      " ['malignant' 'malignant']\n",
      " ['benign' 'malignant']\n",
      " ['benign' 'benign']\n",
      " ['malignant' 'malignant']\n",
      " ['benign' 'benign']\n",
      " ['malignant' 'malignant']\n",
      " ['malignant' 'malignant']\n",
      " ['benign' 'benign']\n",
      " ['malignant' 'malignant']\n",
      " ['malignant' 'benign']\n",
      " ['malignant' 'malignant']\n",
      " ['benign' 'benign']\n",
      " ['benign' 'benign']\n",
      " ['benign' 'benign']\n",
      " ['benign' 'benign']\n",
      " ['benign' 'benign']\n",
      " ['benign' 'benign']\n",
      " ['malignant' 'malignant']\n",
      " ['benign' 'benign']\n",
      " ['benign' 'benign']\n",
      " ['benign' 'benign']\n",
      " ['benign' 'benign']\n",
      " ['malignant' 'malignant']\n",
      " ['benign' 'benign']\n",
      " ['benign' 'benign']\n",
      " ['benign' 'benign']\n",
      " ['malignant' 'malignant']\n",
      " ['benign' 'benign']\n",
      " ['benign' 'benign']\n",
      " ['benign' 'benign']\n",
      " ['benign' 'benign']\n",
      " ['malignant' 'malignant']\n",
      " ['benign' 'benign']\n",
      " ['benign' 'benign']\n",
      " ['benign' 'benign']\n",
      " ['benign' 'benign']\n",
      " ['malignant' 'malignant']\n",
      " ['malignant' 'malignant']\n",
      " ['benign' 'benign']\n",
      " ['benign' 'benign']\n",
      " ['benign' 'benign']\n",
      " ['benign' 'benign']\n",
      " ['benign' 'benign']\n",
      " ['benign' 'benign']\n",
      " ['benign' 'benign']\n",
      " ['benign' 'benign']\n",
      " ['benign' 'benign']\n",
      " ['benign' 'benign']\n",
      " ['malignant' 'malignant']\n",
      " ['malignant' 'malignant']\n",
      " ['benign' 'benign']\n",
      " ['benign' 'benign']\n",
      " ['benign' 'benign']\n",
      " ['benign' 'benign']\n",
      " ['benign' 'benign']\n",
      " ['benign' 'benign']\n",
      " ['benign' 'benign']\n",
      " ['benign' 'benign']\n",
      " ['malignant' 'benign']\n",
      " ['benign' 'benign']\n",
      " ['benign' 'benign']\n",
      " ['malignant' 'malignant']\n",
      " ['benign' 'benign']\n",
      " ['benign' 'benign']\n",
      " ['malignant' 'malignant']\n",
      " ['benign' 'benign']\n",
      " ['malignant' 'malignant']\n",
      " ['malignant' 'malignant']\n",
      " ['malignant' 'malignant']\n",
      " ['benign' 'benign']\n",
      " ['benign' 'benign']\n",
      " ['malignant' 'malignant']\n",
      " ['benign' 'benign']\n",
      " ['benign' 'benign']\n",
      " ['benign' 'benign']\n",
      " ['benign' 'benign']\n",
      " ['benign' 'benign']\n",
      " ['malignant' 'malignant']\n",
      " ['benign' 'benign']\n",
      " ['benign' 'benign']\n",
      " ['benign' 'benign']\n",
      " ['malignant' 'malignant']\n",
      " ['benign' 'benign']\n",
      " ['benign' 'benign']\n",
      " ['benign' 'benign']\n",
      " ['malignant' 'malignant']\n",
      " ['benign' 'benign']\n",
      " ['benign' 'benign']\n",
      " ['malignant' 'malignant']\n",
      " ['benign' 'benign']\n",
      " ['malignant' 'malignant']\n",
      " ['benign' 'benign']\n",
      " ['malignant' 'malignant']\n",
      " ['benign' 'benign']\n",
      " ['benign' 'benign']\n",
      " ['benign' 'benign']\n",
      " ['malignant' 'malignant']\n",
      " ['malignant' 'malignant']\n",
      " ['benign' 'benign']\n",
      " ['benign' 'benign']\n",
      " ['benign' 'benign']]\n"
     ]
    }
   ],
   "source": [
    "y_pred = clasificador.predict(X_prueba)\n",
    "print(np.concatenate((y_pred.reshape(len(y_pred),1), y_prueba.reshape(len(y_prueba),1)),1))"
   ]
  },
  {
   "attachments": {},
   "cell_type": "markdown",
   "metadata": {},
   "source": [
    "#### Matriz de confusion"
   ]
  },
  {
   "cell_type": "code",
   "execution_count": 615,
   "metadata": {},
   "outputs": [
    {
     "name": "stdout",
     "output_type": "stream",
     "text": [
      "[[107   2]\n",
      " [  1  52]]\n",
      "Recall:  0.981651376146789\n",
      "F1 Score:  0.9861751152073732\n"
     ]
    },
    {
     "data": {
      "text/plain": [
       "0.9814814814814815"
      ]
     },
     "execution_count": 615,
     "metadata": {},
     "output_type": "execute_result"
    }
   ],
   "source": [
    "from sklearn.metrics import confusion_matrix, accuracy_score\n",
    "matconf = confusion_matrix(y_prueba, y_pred)\n",
    "AP = matconf[0]\n",
    "AN = matconf[1]\n",
    "TP = AP[0]\n",
    "FN = AP[1]\n",
    "FP = AN[0]\n",
    "TN = AN[1]\n",
    "recall = TP / (TP + FN)\n",
    "precision = TP / (TP + FP)\n",
    "f1_score = 2*(recall*precision) / (precision + recall)\n",
    "print(matconf)\n",
    "\n",
    "print(\"Recall: \", recall)\n",
    "print(\"F1 Score: \", f1_score)\n",
    "accuracy_score(y_prueba, y_pred)"
   ]
  },
  {
   "attachments": {},
   "cell_type": "markdown",
   "metadata": {},
   "source": [
    "### Regresion K-NN"
   ]
  },
  {
   "cell_type": "code",
   "execution_count": 616,
   "metadata": {},
   "outputs": [
    {
     "name": "stdout",
     "output_type": "stream",
     "text": [
      "          id  clump_thickness  uniformity_cell_shape  bland_chromatin  \\\n",
      "0    1000025                5                      1                3   \n",
      "1    1002945                5                      4                3   \n",
      "2    1015425                3                      1                3   \n",
      "3    1016277                6                      8                3   \n",
      "4    1017023                4                      1                3   \n",
      "..       ...              ...                    ...              ...   \n",
      "693   763235                3                      1                2   \n",
      "694   776715                3                      1                1   \n",
      "695   841769                2                      1                1   \n",
      "696   888820                5                     10                8   \n",
      "697   897471                4                      6               10   \n",
      "\n",
      "         class  \n",
      "0       benign  \n",
      "1       benign  \n",
      "2       benign  \n",
      "3       benign  \n",
      "4       benign  \n",
      "..         ...  \n",
      "693     benign  \n",
      "694     benign  \n",
      "695     benign  \n",
      "696  malignant  \n",
      "697  malignant  \n",
      "\n",
      "[645 rows x 5 columns]\n"
     ]
    }
   ],
   "source": [
    "data.head()\n",
    "print(data)"
   ]
  },
  {
   "attachments": {},
   "cell_type": "markdown",
   "metadata": {},
   "source": [
    "#### Estandarizar las Variables"
   ]
  },
  {
   "cell_type": "code",
   "execution_count": 617,
   "metadata": {},
   "outputs": [
    {
     "data": {
      "text/html": [
       "<div>\n",
       "<style scoped>\n",
       "    .dataframe tbody tr th:only-of-type {\n",
       "        vertical-align: middle;\n",
       "    }\n",
       "\n",
       "    .dataframe tbody tr th {\n",
       "        vertical-align: top;\n",
       "    }\n",
       "\n",
       "    .dataframe thead th {\n",
       "        text-align: right;\n",
       "    }\n",
       "</style>\n",
       "<table border=\"1\" class=\"dataframe\">\n",
       "  <thead>\n",
       "    <tr style=\"text-align: right;\">\n",
       "      <th></th>\n",
       "      <th>clump_thickness</th>\n",
       "      <th>uniformity_cell_shape</th>\n",
       "      <th>bland_chromatin</th>\n",
       "    </tr>\n",
       "  </thead>\n",
       "  <tbody>\n",
       "    <tr>\n",
       "      <th>0</th>\n",
       "      <td>0.185119</td>\n",
       "      <td>-0.760791</td>\n",
       "      <td>-0.202515</td>\n",
       "    </tr>\n",
       "    <tr>\n",
       "      <th>1</th>\n",
       "      <td>0.185119</td>\n",
       "      <td>0.244763</td>\n",
       "      <td>-0.202515</td>\n",
       "    </tr>\n",
       "    <tr>\n",
       "      <th>2</th>\n",
       "      <td>-0.515186</td>\n",
       "      <td>-0.760791</td>\n",
       "      <td>-0.202515</td>\n",
       "    </tr>\n",
       "    <tr>\n",
       "      <th>3</th>\n",
       "      <td>0.535272</td>\n",
       "      <td>1.585500</td>\n",
       "      <td>-0.202515</td>\n",
       "    </tr>\n",
       "    <tr>\n",
       "      <th>4</th>\n",
       "      <td>-0.165033</td>\n",
       "      <td>-0.760791</td>\n",
       "      <td>-0.202515</td>\n",
       "    </tr>\n",
       "  </tbody>\n",
       "</table>\n",
       "</div>"
      ],
      "text/plain": [
       "   clump_thickness  uniformity_cell_shape  bland_chromatin\n",
       "0         0.185119              -0.760791        -0.202515\n",
       "1         0.185119               0.244763        -0.202515\n",
       "2        -0.515186              -0.760791        -0.202515\n",
       "3         0.535272               1.585500        -0.202515\n",
       "4        -0.165033              -0.760791        -0.202515"
      ]
     },
     "execution_count": 617,
     "metadata": {},
     "output_type": "execute_result"
    }
   ],
   "source": [
    "escalador = StandardScaler()\n",
    "escalador.fit(data.drop(['id', 'class'], axis=1))\n",
    "cols_std = escalador.transform(data.drop(['id', 'class'], axis=1))\n",
    "datos_std = pd.DataFrame(cols_std, columns=data.columns[1:-1])\n",
    "datos_std.head()"
   ]
  },
  {
   "attachments": {},
   "cell_type": "markdown",
   "metadata": {},
   "source": [
    "#### Train Test Split"
   ]
  },
  {
   "cell_type": "code",
   "execution_count": 618,
   "metadata": {},
   "outputs": [],
   "source": [
    "X_entreno, X_prueba, y_entreno, y_prueba = train_test_split(cols_std, data['class'],\n",
    "                                                    test_size = 0.30, random_state = 0)"
   ]
  },
  {
   "attachments": {},
   "cell_type": "markdown",
   "metadata": {},
   "source": [
    "#### Utilizacion del KNN"
   ]
  },
  {
   "cell_type": "code",
   "execution_count": 619,
   "metadata": {},
   "outputs": [
    {
     "name": "stdout",
     "output_type": "stream",
     "text": [
      "['benign' 'malignant' 'malignant' 'malignant' 'malignant' 'benign'\n",
      " 'benign' 'malignant' 'benign' 'benign' 'benign' 'benign' 'benign'\n",
      " 'malignant' 'benign' 'malignant' 'malignant' 'benign' 'malignant'\n",
      " 'malignant' 'malignant' 'malignant' 'benign' 'benign' 'benign' 'benign'\n",
      " 'benign' 'benign' 'benign' 'benign' 'malignant' 'malignant' 'benign'\n",
      " 'malignant' 'benign' 'benign' 'malignant' 'benign' 'benign' 'benign'\n",
      " 'malignant' 'benign' 'malignant' 'malignant' 'benign' 'benign' 'benign'\n",
      " 'benign' 'benign' 'benign' 'malignant' 'benign' 'malignant' 'benign'\n",
      " 'malignant' 'benign' 'benign' 'benign' 'benign' 'malignant' 'benign'\n",
      " 'malignant' 'benign' 'benign' 'malignant' 'benign' 'malignant'\n",
      " 'malignant' 'benign' 'malignant' 'malignant' 'malignant' 'benign'\n",
      " 'benign' 'benign' 'benign' 'benign' 'benign' 'malignant' 'benign'\n",
      " 'benign' 'benign' 'benign' 'benign' 'benign' 'benign' 'benign'\n",
      " 'malignant' 'benign' 'benign' 'benign' 'benign' 'malignant' 'benign'\n",
      " 'benign' 'benign' 'benign' 'malignant' 'malignant' 'benign' 'benign'\n",
      " 'benign' 'benign' 'benign' 'benign' 'benign' 'benign' 'benign' 'benign'\n",
      " 'malignant' 'malignant' 'benign' 'benign' 'benign' 'benign' 'benign'\n",
      " 'benign' 'benign' 'benign' 'malignant' 'benign' 'benign' 'benign'\n",
      " 'benign' 'benign' 'malignant' 'benign' 'malignant' 'malignant'\n",
      " 'malignant' 'benign' 'benign' 'malignant' 'benign' 'benign' 'benign'\n",
      " 'benign' 'benign' 'malignant' 'benign' 'benign' 'benign' 'malignant'\n",
      " 'benign' 'benign' 'benign' 'malignant' 'benign' 'benign' 'malignant'\n",
      " 'malignant' 'malignant' 'benign' 'malignant' 'benign' 'benign' 'benign'\n",
      " 'malignant' 'malignant' 'benign' 'benign' 'benign' 'malignant' 'benign'\n",
      " 'benign' 'benign' 'benign' 'malignant' 'malignant' 'benign' 'benign'\n",
      " 'benign' 'benign' 'malignant' 'malignant' 'benign' 'benign' 'benign'\n",
      " 'benign' 'benign' 'benign' 'malignant' 'benign' 'benign' 'benign'\n",
      " 'malignant' 'benign' 'benign' 'malignant' 'malignant' 'malignant'\n",
      " 'benign' 'benign' 'benign']\n"
     ]
    }
   ],
   "source": [
    "knn = KNeighborsClassifier(n_neighbors = 1)\n",
    "knn.fit(X_entreno, y_entreno)\n",
    "pred = knn.predict(X_prueba)\n",
    "print(pred)"
   ]
  },
  {
   "attachments": {},
   "cell_type": "markdown",
   "metadata": {},
   "source": [
    "#### Predicciones y Evaluaciones"
   ]
  },
  {
   "cell_type": "code",
   "execution_count": 620,
   "metadata": {},
   "outputs": [
    {
     "name": "stdout",
     "output_type": "stream",
     "text": [
      "[[126   3]\n",
      " [  6  59]]\n"
     ]
    }
   ],
   "source": [
    "print(confusion_matrix(y_prueba, pred))\n"
   ]
  },
  {
   "cell_type": "code",
   "execution_count": 621,
   "metadata": {},
   "outputs": [
    {
     "name": "stdout",
     "output_type": "stream",
     "text": [
      "              precision    recall  f1-score   support\n",
      "\n",
      "      benign       0.95      0.98      0.97       129\n",
      "   malignant       0.95      0.91      0.93        65\n",
      "\n",
      "    accuracy                           0.95       194\n",
      "   macro avg       0.95      0.94      0.95       194\n",
      "weighted avg       0.95      0.95      0.95       194\n",
      "\n"
     ]
    }
   ],
   "source": [
    "print(classification_report(y_prueba, pred))"
   ]
  },
  {
   "attachments": {},
   "cell_type": "markdown",
   "metadata": {},
   "source": [
    "#### Seleccion de un valor K"
   ]
  },
  {
   "cell_type": "code",
   "execution_count": 622,
   "metadata": {},
   "outputs": [],
   "source": [
    "tasa_error = []\n",
    "\n",
    "# Puede tardar un poco\n",
    "for i in range(1, 100):\n",
    "    \n",
    "    knn = KNeighborsClassifier(n_neighbors = i)\n",
    "    knn.fit(X_entreno, y_entreno)\n",
    "    pred_i = knn.predict(X_prueba)\n",
    "    tasa_error.append(np.mean(pred_i != y_prueba))"
   ]
  },
  {
   "cell_type": "code",
   "execution_count": 623,
   "metadata": {},
   "outputs": [
    {
     "data": {
      "text/plain": [
       "Text(0, 0.5, 'Tasa de Error')"
      ]
     },
     "execution_count": 623,
     "metadata": {},
     "output_type": "execute_result"
    },
    {
     "data": {
      "image/png": "[encoded data removed]",
      "text/plain": [
       "<Figure size 1000x600 with 1 Axes>"
      ]
     },
     "metadata": {},
     "output_type": "display_data"
    }
   ],
   "source": [
    "plt.figure(figsize = (10, 6))\n",
    "plt.plot(range(1, 100), tasa_error, color = 'blue', linestyle = 'dashed', marker = 'o',\n",
    "         markerfacecolor = 'red', markersize = 10)\n",
    "plt.title('Tasa de Error vs. Valor de K')\n",
    "plt.xlabel('K')\n",
    "plt.ylabel('Tasa de Error')"
   ]
  },
  {
   "cell_type": "code",
   "execution_count": 624,
   "metadata": {},
   "outputs": [
    {
     "name": "stdout",
     "output_type": "stream",
     "text": [
      "CON K = 1\n",
      "\n",
      "Matriz de Confusión\n",
      "\n",
      "[[126   3]\n",
      " [  6  59]]\n",
      "\n",
      "\n",
      "              precision    recall  f1-score   support\n",
      "\n",
      "      benign       0.95      0.98      0.97       129\n",
      "   malignant       0.95      0.91      0.93        65\n",
      "\n",
      "    accuracy                           0.95       194\n",
      "   macro avg       0.95      0.94      0.95       194\n",
      "weighted avg       0.95      0.95      0.95       194\n",
      "\n"
     ]
    }
   ],
   "source": [
    "# PRIMERO UNA RAPIDA COMPARACION CON NUESTRO VALOR ORIGINAL K=1\n",
    "knn = KNeighborsClassifier(n_neighbors=1)\n",
    "\n",
    "knn.fit(X_entreno,y_entreno)\n",
    "pred = knn.predict(X_prueba)\n",
    "\n",
    "print('CON K = 1')\n",
    "print()\n",
    "print('Matriz de Confusión\\n')\n",
    "print(confusion_matrix(y_prueba,pred))\n",
    "print('\\n')\n",
    "print(classification_report(y_prueba,pred))"
   ]
  },
  {
   "cell_type": "code",
   "execution_count": 625,
   "metadata": {},
   "outputs": [
    {
     "name": "stdout",
     "output_type": "stream",
     "text": [
      "CON K = 69\n",
      "\n",
      "Matriz de Confusión\n",
      "\n",
      "[[128   1]\n",
      " [  2  63]]\n",
      "Recall:  0.9922480620155039\n",
      "F1 Score:  0.9884169884169884\n"
     ]
    },
    {
     "data": {
      "text/plain": [
       "0.9845360824742269"
      ]
     },
     "execution_count": 625,
     "metadata": {},
     "output_type": "execute_result"
    }
   ],
   "source": [
    "# AHORA CON K = 69\n",
    "knn = KNeighborsClassifier(n_neighbors = 69)\n",
    "\n",
    "knn.fit(X_entreno, y_entreno)\n",
    "pred = knn.predict(X_prueba)\n",
    "\n",
    "print('CON K = 69')\n",
    "print()\n",
    "print('Matriz de Confusión\\n')\n",
    "confMatrix = confusion_matrix(y_prueba,pred)\n",
    "print(confMatrix)\n",
    "accuracy_score(y_prueba,pred)\n",
    "\n",
    "AP = confMatrix[0]\n",
    "AN = confMatrix[1]\n",
    "TP = AP[0]\n",
    "FN = AP[1]\n",
    "FP = AN[0]\n",
    "TN = AN[1]\n",
    "recall = TP / (TP + FN)\n",
    "precision = TP / (TP + FP)\n",
    "f1_score = 2*(recall*precision) / (precision + recall)\n",
    "print(\"Recall: \", recall)\n",
    "print(\"F1 Score: \", f1_score)\n",
    "accuracy_score(y_prueba, pred)"
   ]
  }
 ],
 "metadata": {
  "kernelspec": {
   "display_name": "Python 3",
   "language": "python",
   "name": "python3"
  },
  "language_info": {
   "codemirror_mode": {
    "name": "ipython",
    "version": 3
   },
   "file_extension": ".py",
   "mimetype": "text/x-python",
   "name": "python",
   "nbconvert_exporter": "python",
   "pygments_lexer": "ipython3",
   "version": "3.10.10"
  },
  "orig_nbformat": 4,
  "vscode": {
   "interpreter": {
    "hash": "3ac5f3aa52ff0dada86bcbebe975b28021fc1613a533e99386a9aa5caf5ade23"
   }
  }
 },
 "nbformat": 4,
 "nbformat_minor": 2
}
